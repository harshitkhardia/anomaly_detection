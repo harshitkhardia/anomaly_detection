{
 "cells": [
  {
   "cell_type": "code",
   "execution_count": 1,
   "metadata": {},
   "outputs": [],
   "source": [
    "import numpy as np\n",
    "import pandas as pd\n",
    "import torch\n",
    "import seaborn as sns\n",
    "import torch.nn as nn\n",
    "import torchvision\n",
    "from torch import optim, cuda\n",
    "from torchvision import transforms, datasets, models\n",
    "import torch.optim as optim\n",
    "from torch.optim import lr_scheduler\n",
    "import numpy as np\n",
    "from torchvision import datasets,models,transforms\n",
    "from torch.utils.data import DataLoader ,sampler\n",
    "import matplotlib.pyplot as plt\n",
    "import os\n",
    "import time\n",
    "import cv2\n",
    "import copy\n",
    "from IPython.core.interactiveshell import InteractiveShell\n",
    "import warnings\n",
    "warnings.filterwarnings('ignore', category=FutureWarning)\n",
    "# Image manipulations\n",
    "from PIL import Image\n",
    "# Useful for examining network\n",
    "from torchsummary import summary\n",
    "# Timing utility\n",
    "from timeit import default_timer as timer\n",
    "# Visualizations\n",
    "import matplotlib.pyplot as plt\n",
    "%matplotlib inline\n",
    "plt.rcParams['font.size'] = 14\n",
    "# Printing out all outputs\n",
    "InteractiveShell.ast_node_interactivity = 'all'\n"
   ]
  },
  {
   "cell_type": "code",
   "execution_count": 2,
   "metadata": {},
   "outputs": [
    {
     "ename": "ModuleNotFoundError",
     "evalue": "No module named 'tensorboard'",
     "output_type": "error",
     "traceback": [
      "\u001b[1;31m---------------------------------------------------------------------------\u001b[0m",
      "\u001b[1;31mModuleNotFoundError\u001b[0m                       Traceback (most recent call last)",
      "\u001b[1;32m<ipython-input-2-2775babaea59>\u001b[0m in \u001b[0;36m<module>\u001b[1;34m\u001b[0m\n\u001b[1;32m----> 1\u001b[1;33m \u001b[1;32mfrom\u001b[0m \u001b[0mtorch\u001b[0m\u001b[1;33m.\u001b[0m\u001b[0mutils\u001b[0m\u001b[1;33m.\u001b[0m\u001b[0mtensorboard\u001b[0m \u001b[1;32mimport\u001b[0m \u001b[0mSummaryWriter\u001b[0m\u001b[1;33m\u001b[0m\u001b[1;33m\u001b[0m\u001b[0m\n\u001b[0m",
      "\u001b[1;32m~\\anaconda3\\lib\\site-packages\\torch\\utils\\tensorboard\\__init__.py\u001b[0m in \u001b[0;36m<module>\u001b[1;34m\u001b[0m\n\u001b[1;32m----> 1\u001b[1;33m \u001b[1;32mimport\u001b[0m \u001b[0mtensorboard\u001b[0m\u001b[1;33m\u001b[0m\u001b[1;33m\u001b[0m\u001b[0m\n\u001b[0m\u001b[0;32m      2\u001b[0m \u001b[1;32mfrom\u001b[0m \u001b[0mdistutils\u001b[0m\u001b[1;33m.\u001b[0m\u001b[0mversion\u001b[0m \u001b[1;32mimport\u001b[0m \u001b[0mLooseVersion\u001b[0m\u001b[1;33m\u001b[0m\u001b[1;33m\u001b[0m\u001b[0m\n\u001b[0;32m      3\u001b[0m \u001b[1;32mif\u001b[0m \u001b[1;32mnot\u001b[0m \u001b[0mhasattr\u001b[0m\u001b[1;33m(\u001b[0m\u001b[0mtensorboard\u001b[0m\u001b[1;33m,\u001b[0m \u001b[1;34m'__version__'\u001b[0m\u001b[1;33m)\u001b[0m \u001b[1;32mor\u001b[0m \u001b[0mLooseVersion\u001b[0m\u001b[1;33m(\u001b[0m\u001b[0mtensorboard\u001b[0m\u001b[1;33m.\u001b[0m\u001b[0m__version__\u001b[0m\u001b[1;33m)\u001b[0m \u001b[1;33m<\u001b[0m \u001b[0mLooseVersion\u001b[0m\u001b[1;33m(\u001b[0m\u001b[1;34m'1.15'\u001b[0m\u001b[1;33m)\u001b[0m\u001b[1;33m:\u001b[0m\u001b[1;33m\u001b[0m\u001b[1;33m\u001b[0m\u001b[0m\n\u001b[0;32m      4\u001b[0m     \u001b[1;32mraise\u001b[0m \u001b[0mImportError\u001b[0m\u001b[1;33m(\u001b[0m\u001b[1;34m'TensorBoard logging requires TensorBoard version 1.15 or above'\u001b[0m\u001b[1;33m)\u001b[0m\u001b[1;33m\u001b[0m\u001b[1;33m\u001b[0m\u001b[0m\n\u001b[0;32m      5\u001b[0m \u001b[1;32mdel\u001b[0m \u001b[0mLooseVersion\u001b[0m\u001b[1;33m\u001b[0m\u001b[1;33m\u001b[0m\u001b[0m\n",
      "\u001b[1;31mModuleNotFoundError\u001b[0m: No module named 'tensorboard'"
     ]
    }
   ],
   "source": [
    "from torch.utils.tensorboard import SummaryWriter"
   ]
  },
  {
   "cell_type": "code",
   "execution_count": 4,
   "metadata": {},
   "outputs": [
    {
     "data": {
      "text/plain": [
       "'\\nfunctions in datahandler \\ndef process_image(image_path):\\ndef imshow_tensor(image, ax=None, title=None):\\ndef train(model,criterion,optimizer,train_loader,valid_loader,save_file_name,max_epochs_stop=3,n_epochs=20,print_every=2):\\ndef display_prediction(image_path, model, topk):\\ndef predict(image_path, model, topk=5):\\ndef save_checkpoint(model, path,optimizer,history):\\n\\nmake sure train_on_gpu true if training in GPU\\nelse false;\\n'"
      ]
     },
     "execution_count": 4,
     "metadata": {},
     "output_type": "execute_result"
    }
   ],
   "source": [
    "'''\n",
    "functions in datahandler \n",
    "def process_image(image_path):\n",
    "def imshow_tensor(image, ax=None, title=None):\n",
    "def train(model,criterion,optimizer,train_loader,valid_loader,save_file_name,max_epochs_stop=3,n_epochs=20,print_every=2):\n",
    "def display_prediction(image_path, model, topk):\n",
    "def predict(image_path, model, topk=5):\n",
    "def save_checkpoint(model, path,optimizer,history):\n",
    "\n",
    "make sure train_on_gpu true if training in GPU\n",
    "else false;\n",
    "'''"
   ]
  },
  {
   "cell_type": "code",
   "execution_count": 5,
   "metadata": {},
   "outputs": [
    {
     "data": {
      "text/plain": [
       "'\\nfunctions in getmethod files  \\n    def get_pretrained_model(model_name):\\n    def evaluate(model, test_loader, criterion, topk=[1]):\\n    def imshow(image):\\n\\nmake sure train_on_gpu true if training in GPU\\nelse false;\\n'"
      ]
     },
     "execution_count": 5,
     "metadata": {},
     "output_type": "execute_result"
    }
   ],
   "source": [
    "'''\n",
    "functions in getmethod files  \n",
    "    def get_pretrained_model(model_name):\n",
    "    def evaluate(model, test_loader, criterion, topk=[1]):\n",
    "    def imshow(image):\n",
    "\n",
    "make sure train_on_gpu true if training in GPU\n",
    "else false;\n",
    "'''"
   ]
  },
  {
   "cell_type": "code",
   "execution_count": 6,
   "metadata": {},
   "outputs": [],
   "source": [
    "device = torch.device(\"cuda:0\" if torch.cuda.is_available() else \"cpu\")\n",
    "train_on_gpu=True"
   ]
  },
  {
   "cell_type": "code",
   "execution_count": 7,
   "metadata": {},
   "outputs": [
    {
     "name": "stdout",
     "output_type": "stream",
     "text": [
      "Train on gpu: True\n",
      "1 gpus detected.\n"
     ]
    }
   ],
   "source": [
    "src='C:\\\\Users\\\\Harshit\\\\Desktop\\\\MTP\\\\training_folder'\n",
    "traindir = os.path.join(src,'train')\n",
    "validdir = os.path.join(src,'val')\n",
    "testdir = os.path.join(src,'test')\n",
    "save_file_name = 'densenet121-transfer-4.pt'\n",
    "checkpoint_path = 'densenet121-transfer-4.pth'\n",
    "# Change to fit hardware\n",
    "batch_size = 32\n",
    "# Whether to train on a gpu\n",
    "train_on_gpu = cuda.is_available()\n",
    "print(f'Train on gpu: {train_on_gpu}')\n",
    "if train_on_gpu:\n",
    "    gpu_count = cuda.device_count()\n",
    "    print(f'{gpu_count} gpus detected.')\n",
    "    if gpu_count > 1:\n",
    "        multi_gpu = True\n",
    "    else:\n",
    "        multi_gpu = False\n",
    "cat_df=pd.read_csv('cat_df')"
   ]
  },
  {
   "cell_type": "code",
   "execution_count": 8,
   "metadata": {},
   "outputs": [],
   "source": [
    "def imshow(image):\n",
    "    \"\"\"Display image\"\"\"\n",
    "    plt.figure(figsize=(6, 6))\n",
    "    plt.imshow(image)\n",
    "    plt.axis('off')\n",
    "    plt.show()"
   ]
  },
  {
   "cell_type": "code",
   "execution_count": 9,
   "metadata": {},
   "outputs": [
    {
     "name": "stdout",
     "output_type": "stream",
     "text": [
      "1 gpus detected.\n",
      "1 gpus detected.\n",
      "1 gpus detected.\n"
     ]
    }
   ],
   "source": [
    "%run datahandler\n",
    "%run get_method"
   ]
  },
  {
   "cell_type": "code",
   "execution_count": 10,
   "metadata": {},
   "outputs": [],
   "source": [
    "batch_size=32\n",
    "image_transforms = {\n",
    "    # Train uses data augmentation\n",
    "    'train':\n",
    "    transforms.Compose([\n",
    "        transforms.RandomResizedCrop(size=256, scale=(0.8, 1.0)),\n",
    "        transforms.RandomRotation(degrees=15),\n",
    "        transforms.ColorJitter(),\n",
    "        transforms.RandomHorizontalFlip(),\n",
    "        transforms.CenterCrop(size=224),  # Image net standards\n",
    "        transforms.ToTensor(),\n",
    "        transforms.Normalize([0.485, 0.456, 0.406],\n",
    "                             [0.229, 0.224, 0.225])  # Imagenet standards\n",
    "    ]),\n",
    "    # Validation does not use augmentation\n",
    "    'valid':\n",
    "    transforms.Compose([\n",
    "        transforms.Resize(size=256),\n",
    "        transforms.CenterCrop(size=224),\n",
    "        transforms.ToTensor(),\n",
    "        transforms.Normalize([0.485, 0.456, 0.406], [0.229, 0.224, 0.225])\n",
    "    ]),\n",
    "    'test':\n",
    "    transforms.Compose([\n",
    "        transforms.Resize(size=256),\n",
    "        transforms.CenterCrop(size=224),\n",
    "        transforms.ToTensor(),\n",
    "        transforms.Normalize([0.485, 0.456, 0.406], [0.229, 0.224, 0.225])\n",
    "    ])\n",
    "}\n",
    "data = {\n",
    "    'train':\n",
    "    datasets.ImageFolder(root=os.path.join(src,'train'), transform=image_transforms['train']),\n",
    "    'val':\n",
    "    datasets.ImageFolder(root=os.path.join(src,'val'), transform=image_transforms['valid']),\n",
    "    'test':\n",
    "    datasets.ImageFolder(root=testdir, transform=image_transforms['test'])\n",
    "}\n",
    "dataloaders = {\n",
    "    'train': DataLoader(data['train'], batch_size=batch_size, shuffle=True),\n",
    "    'val': DataLoader(data['val'], batch_size=batch_size, shuffle=True),\n",
    "    'test': DataLoader(data['test'], batch_size=batch_size, shuffle=True)\n",
    "}"
   ]
  },
  {
   "cell_type": "code",
   "execution_count": 11,
   "metadata": {},
   "outputs": [
    {
     "data": {
      "text/plain": [
       "(torch.Size([32, 3, 224, 224]), torch.Size([32]))"
      ]
     },
     "execution_count": 11,
     "metadata": {},
     "output_type": "execute_result"
    }
   ],
   "source": [
    "# Iterate through the dataloader once\n",
    "trainiter=iter(dataloaders['train'])\n",
    "features, labels = next(trainiter)\n",
    "features.shape,labels.shape"
   ]
  },
  {
   "cell_type": "markdown",
   "metadata": {},
   "source": [
    "# training"
   ]
  },
  {
   "cell_type": "code",
   "execution_count": 12,
   "metadata": {},
   "outputs": [],
   "source": [
    "model=models.densenet121(pretrained=True)\n",
    "for param in model.parameters():\n",
    "    param.requires_grad = False\n",
    "num_ftrs = model.classifier.in_features\n",
    "model.classifier=nn.Linear(num_ftrs,2)\n",
    "model=model.cuda()"
   ]
  },
  {
   "cell_type": "code",
   "execution_count": 13,
   "metadata": {},
   "outputs": [
    {
     "data": {
      "text/plain": [
       "[(0, 'Negative'), (1, 'Positive')]"
      ]
     },
     "execution_count": 13,
     "metadata": {},
     "output_type": "execute_result"
    }
   ],
   "source": [
    "model.class_to_idx = data['train'].class_to_idx\n",
    "model.idx_to_class = {\n",
    "    idx: class_\n",
    "    for class_, idx in model.class_to_idx.items()\n",
    "}\n",
    "\n",
    "list(model.idx_to_class.items())[:10]"
   ]
  },
  {
   "cell_type": "code",
   "execution_count": null,
   "metadata": {},
   "outputs": [],
   "source": [
    "criterion = nn.CrossEntropyLoss()\n",
    "#optimizer = optim.SGD(model.parameters(), lr=0.0001, momentum=0.9)\n",
    "optimizer = optim.Adam(model.parameters())\n",
    "def accuracy(out, labels):\n",
    "    _,pred = torch.max(out, dim=1)\n",
    "    return torch.sum(pred==labels).item()"
   ]
  },
  {
   "cell_type": "code",
   "execution_count": 11,
   "metadata": {},
   "outputs": [
    {
     "name": "stdout",
     "output_type": "stream",
     "text": [
      "7,085,314 total parameters.\n",
      "131,458 training parameters.\n"
     ]
    }
   ],
   "source": [
    "total_params = sum(p.numel() for p in model.parameters())\n",
    "print(f'{total_params:,} total parameters.')\n",
    "total_trainable_params = sum(\n",
    "    p.numel() for p in model.parameters() if p.requires_grad)\n",
    "print(f'{total_trainable_params:,} training parameters.')"
   ]
  },
  {
   "cell_type": "code",
   "execution_count": null,
   "metadata": {},
   "outputs": [],
   "source": [
    "save_file_name = 'densenet121-transfer-4.pt'\n",
    "checkpoint_path = 'densenet121-transfer-4.pth'\n",
    "model, history = train(\n",
    "    model,\n",
    "    criterion,\n",
    "    optimizer,\n",
    "    dataloaders['train'],\n",
    "    dataloaders['val'],\n",
    "    save_file_name=save_file_name,\n",
    "    max_epochs_stop=5,\n",
    "    n_epochs=2,\n",
    "    print_every=2)"
   ]
  },
  {
   "cell_type": "code",
   "execution_count": null,
   "metadata": {},
   "outputs": [],
   "source": [
    "save_checkpoint(model, checkpoint_path,history)"
   ]
  },
  {
   "cell_type": "markdown",
   "metadata": {},
   "source": [
    "# loading saved model"
   ]
  },
  {
   "cell_type": "code",
   "execution_count": 12,
   "metadata": {},
   "outputs": [
    {
     "name": "stdout",
     "output_type": "stream",
     "text": [
      "6,955,906 total parameters.\n",
      "2,050 total gradient parameters.\n"
     ]
    }
   ],
   "source": [
    "model,optimizer,history=load_checkpoint(checkpoint_path)"
   ]
  },
  {
   "cell_type": "markdown",
   "metadata": {},
   "source": [
    "# training analysis"
   ]
  },
  {
   "cell_type": "code",
   "execution_count": 13,
   "metadata": {},
   "outputs": [
    {
     "data": {
      "text/plain": [
       "<Figure size 576x432 with 0 Axes>"
      ]
     },
     "execution_count": 13,
     "metadata": {},
     "output_type": "execute_result"
    },
    {
     "data": {
      "text/plain": [
       "[<matplotlib.lines.Line2D at 0x132079f58e0>]"
      ]
     },
     "execution_count": 13,
     "metadata": {},
     "output_type": "execute_result"
    },
    {
     "data": {
      "text/plain": [
       "[<matplotlib.lines.Line2D at 0x13207a895e0>]"
      ]
     },
     "execution_count": 13,
     "metadata": {},
     "output_type": "execute_result"
    },
    {
     "data": {
      "text/plain": [
       "<matplotlib.legend.Legend at 0x13207a41310>"
      ]
     },
     "execution_count": 13,
     "metadata": {},
     "output_type": "execute_result"
    },
    {
     "data": {
      "text/plain": [
       "Text(0.5, 0, 'Epoch')"
      ]
     },
     "execution_count": 13,
     "metadata": {},
     "output_type": "execute_result"
    },
    {
     "data": {
      "text/plain": [
       "Text(0, 0.5, 'Average Negative Log Likelihood')"
      ]
     },
     "execution_count": 13,
     "metadata": {},
     "output_type": "execute_result"
    },
    {
     "data": {
      "text/plain": [
       "Text(0.5, 1.0, 'Training and Validation Losses')"
      ]
     },
     "execution_count": 13,
     "metadata": {},
     "output_type": "execute_result"
    },
    {
     "data": {
      "image/png": "[encoded data removed]",
      "text/plain": [
       "<Figure size 576x432 with 1 Axes>"
      ]
     },
     "metadata": {
      "needs_background": "light"
     },
     "output_type": "display_data"
    }
   ],
   "source": [
    "plt.figure(figsize=(8, 6))\n",
    "for c in ['train_loss', 'valid_loss']:\n",
    "    plt.plot(\n",
    "        history[c], label=c)\n",
    "plt.legend()\n",
    "plt.xlabel('Epoch')\n",
    "plt.ylabel('Average Negative Log Likelihood')\n",
    "plt.title('Training and Validation Losses')\n"
   ]
  },
  {
   "cell_type": "code",
   "execution_count": 14,
   "metadata": {},
   "outputs": [
    {
     "data": {
      "text/plain": [
       "<Figure size 576x432 with 0 Axes>"
      ]
     },
     "execution_count": 14,
     "metadata": {},
     "output_type": "execute_result"
    },
    {
     "data": {
      "text/plain": [
       "[<matplotlib.lines.Line2D at 0x1321bb6ba30>]"
      ]
     },
     "execution_count": 14,
     "metadata": {},
     "output_type": "execute_result"
    },
    {
     "data": {
      "text/plain": [
       "[<matplotlib.lines.Line2D at 0x1321bb6beb0>]"
      ]
     },
     "execution_count": 14,
     "metadata": {},
     "output_type": "execute_result"
    },
    {
     "data": {
      "text/plain": [
       "<matplotlib.legend.Legend at 0x1325bbb1970>"
      ]
     },
     "execution_count": 14,
     "metadata": {},
     "output_type": "execute_result"
    },
    {
     "data": {
      "text/plain": [
       "Text(0.5, 0, 'Epoch')"
      ]
     },
     "execution_count": 14,
     "metadata": {},
     "output_type": "execute_result"
    },
    {
     "data": {
      "text/plain": [
       "Text(0, 0.5, 'Average Accuracy')"
      ]
     },
     "execution_count": 14,
     "metadata": {},
     "output_type": "execute_result"
    },
    {
     "data": {
      "text/plain": [
       "Text(0.5, 1.0, 'Training and Validation Accuracy')"
      ]
     },
     "execution_count": 14,
     "metadata": {},
     "output_type": "execute_result"
    },
    {
     "data": {
      "image/png": "[encoded data removed]",
      "text/plain": [
       "<Figure size 576x432 with 1 Axes>"
      ]
     },
     "metadata": {
      "needs_background": "light"
     },
     "output_type": "display_data"
    }
   ],
   "source": [
    "plt.figure(figsize=(8, 6))\n",
    "for c in ['train_acc', 'valid_acc']:\n",
    "    plt.plot(\n",
    "        100 * history[c], label=c)\n",
    "plt.legend()\n",
    "plt.xlabel('Epoch')\n",
    "plt.ylabel('Average Accuracy')\n",
    "plt.title('Training and Validation Accuracy')\n"
   ]
  },
  {
   "cell_type": "markdown",
   "metadata": {},
   "source": [
    "# inference"
   ]
  },
  {
   "cell_type": "markdown",
   "metadata": {},
   "source": [
    "# prediction"
   ]
  },
  {
   "cell_type": "code",
   "execution_count": 15,
   "metadata": {},
   "outputs": [],
   "source": [
    "cat_df=pd.read_csv('cat_df')"
   ]
  },
  {
   "cell_type": "code",
   "execution_count": 20,
   "metadata": {},
   "outputs": [
    {
     "data": {
      "text/plain": [
       "'C:\\\\Users\\\\Harshit\\\\Desktop\\\\MTP\\\\training_folder\\\\test'"
      ]
     },
     "execution_count": 20,
     "metadata": {},
     "output_type": "execute_result"
    }
   ],
   "source": [
    "testdir"
   ]
  },
  {
   "cell_type": "code",
   "execution_count": 18,
   "metadata": {},
   "outputs": [
    {
     "data": {
      "text/plain": [
       "torch.Size([3, 224, 224])"
      ]
     },
     "execution_count": 18,
     "metadata": {},
     "output_type": "execute_result"
    },
    {
     "name": "stdout",
     "output_type": "stream",
     "text": [
      "Positive\n",
      "[3.970555e+02 7.877530e-03]\n"
     ]
    },
    {
     "data": {
      "text/plain": [
       "<matplotlib.image.AxesImage at 0x1321bc8abe0>"
      ]
     },
     "execution_count": 18,
     "metadata": {},
     "output_type": "execute_result"
    },
    {
     "data": {
      "image/png": "[encoded data removed]",
      "text/plain": [
       "<Figure size 432x288 with 1 Axes>"
      ]
     },
     "metadata": {
      "needs_background": "light"
     },
     "output_type": "display_data"
    },
    {
     "data": {
      "image/png": "[encoded data removed]",
      "text/plain": [
       "<Figure size 432x288 with 1 Axes>"
      ]
     },
     "metadata": {
      "needs_background": "light"
     },
     "output_type": "display_data"
    }
   ],
   "source": [
    "np.random.seed = 100\n",
    "%matplotlib inline\n",
    "def random_test_image():\n",
    "    \"\"\"Pick a random test image from the test directory\"\"\"\n",
    "    c = np.random.choice(cat_df['category'])\n",
    "    root = os.path.join(testdir,c)\n",
    "    img_path = os.path.join(root,np.random.choice(os.listdir(root)))\n",
    "    return img_path\n",
    "\n",
    "p=random_test_image()\n",
    "_ = imshow_tensor(process_image(p))\n",
    "img, top_p, top_classes, real_class = predict(p, model)\n",
    "img.shape\n",
    "ax,image=imshow_tensor(img)\n",
    "print(real_class)\n",
    "print(top_p)\n",
    "plt.imshow(image)\n",
    "\n"
   ]
  },
  {
   "cell_type": "code",
   "execution_count": 34,
   "metadata": {},
   "outputs": [
    {
     "ename": "TypeError",
     "evalue": "_argmax_dispatcher() got an unexpected keyword argument 'dim'",
     "output_type": "error",
     "traceback": [
      "\u001b[1;31m---------------------------------------------------------------------------\u001b[0m",
      "\u001b[1;31mTypeError\u001b[0m                                 Traceback (most recent call last)",
      "\u001b[1;32m<ipython-input-34-0df1aba89617>\u001b[0m in \u001b[0;36m<module>\u001b[1;34m\u001b[0m\n\u001b[1;32m----> 1\u001b[1;33m \u001b[0mmodel\u001b[0m\u001b[1;33m.\u001b[0m\u001b[0mclass_to_idx\u001b[0m\u001b[1;33m[\u001b[0m\u001b[0mreal_class\u001b[0m\u001b[1;33m]\u001b[0m\u001b[1;33m==\u001b[0m\u001b[0mnp\u001b[0m\u001b[1;33m.\u001b[0m\u001b[0margmax\u001b[0m\u001b[1;33m(\u001b[0m\u001b[0mtop_p\u001b[0m\u001b[1;33m,\u001b[0m\u001b[0mdim\u001b[0m\u001b[1;33m=\u001b[0m\u001b[1;36m1\u001b[0m\u001b[1;33m)\u001b[0m\u001b[1;33m\u001b[0m\u001b[1;33m\u001b[0m\u001b[0m\n\u001b[0m",
      "\u001b[1;32m<__array_function__ internals>\u001b[0m in \u001b[0;36margmax\u001b[1;34m(*args, **kwargs)\u001b[0m\n",
      "\u001b[1;31mTypeError\u001b[0m: _argmax_dispatcher() got an unexpected keyword argument 'dim'"
     ]
    }
   ],
   "source": [
    "model.class_to_idx[real_class]==np.argmax(top_p,dim=1)"
   ]
  },
  {
   "cell_type": "code",
   "execution_count": 50,
   "metadata": {},
   "outputs": [
    {
     "ename": "NameError",
     "evalue": "name 'top_top_p' is not defined",
     "output_type": "error",
     "traceback": [
      "\u001b[1;31m---------------------------------------------------------------------------\u001b[0m",
      "\u001b[1;31mNameError\u001b[0m                                 Traceback (most recent call last)",
      "\u001b[1;32m<ipython-input-50-babe37b16b4a>\u001b[0m in \u001b[0;36m<module>\u001b[1;34m\u001b[0m\n\u001b[1;32m----> 1\u001b[1;33m \u001b[0mtop_top_p\u001b[0m\u001b[1;33m.\u001b[0m\u001b[0mreshape\u001b[0m\u001b[1;33m(\u001b[0m\u001b[1;36m2\u001b[0m\u001b[1;33m)\u001b[0m\u001b[1;33m\u001b[0m\u001b[1;33m\u001b[0m\u001b[0m\n\u001b[0m",
      "\u001b[1;31mNameError\u001b[0m: name 'top_top_p' is not defined"
     ]
    }
   ],
   "source": [
    "top_p.reshape(2)"
   ]
  },
  {
   "cell_type": "code",
   "execution_count": null,
   "metadata": {},
   "outputs": [],
   "source": []
  },
  {
   "cell_type": "code",
   "execution_count": 40,
   "metadata": {},
   "outputs": [
    {
     "data": {
      "text/plain": [
       "torch.Size([3, 224, 224])"
      ]
     },
     "execution_count": 40,
     "metadata": {},
     "output_type": "execute_result"
    },
    {
     "name": "stdout",
     "output_type": "stream",
     "text": [
      "Negative\n",
      "[1.4783180e+02 1.5820056e-02]\n"
     ]
    },
    {
     "data": {
      "text/plain": [
       "0"
      ]
     },
     "execution_count": 40,
     "metadata": {},
     "output_type": "execute_result"
    },
    {
     "ename": "AxisError",
     "evalue": "axis 1 is out of bounds for array of dimension 1",
     "output_type": "error",
     "traceback": [
      "\u001b[1;31m---------------------------------------------------------------------------\u001b[0m",
      "\u001b[1;31mAxisError\u001b[0m                                 Traceback (most recent call last)",
      "\u001b[1;32m<ipython-input-40-49e6c00da4ad>\u001b[0m in \u001b[0;36m<module>\u001b[1;34m\u001b[0m\n\u001b[0;32m      7\u001b[0m \u001b[0mprint\u001b[0m\u001b[1;33m(\u001b[0m\u001b[0mtop_p\u001b[0m\u001b[1;33m)\u001b[0m\u001b[1;33m\u001b[0m\u001b[1;33m\u001b[0m\u001b[0m\n\u001b[0;32m      8\u001b[0m \u001b[0mmodel\u001b[0m\u001b[1;33m.\u001b[0m\u001b[0mclass_to_idx\u001b[0m\u001b[1;33m[\u001b[0m\u001b[0mreal_class\u001b[0m\u001b[1;33m]\u001b[0m\u001b[1;33m\u001b[0m\u001b[1;33m\u001b[0m\u001b[0m\n\u001b[1;32m----> 9\u001b[1;33m \u001b[0mnp\u001b[0m\u001b[1;33m.\u001b[0m\u001b[0margmax\u001b[0m\u001b[1;33m(\u001b[0m\u001b[0mtop_p\u001b[0m\u001b[1;33m,\u001b[0m\u001b[0maxis\u001b[0m\u001b[1;33m=\u001b[0m\u001b[1;36m1\u001b[0m\u001b[1;33m)\u001b[0m\u001b[1;33m\u001b[0m\u001b[1;33m\u001b[0m\u001b[0m\n\u001b[0m\u001b[0;32m     10\u001b[0m \u001b[0mplt\u001b[0m\u001b[1;33m.\u001b[0m\u001b[0mimshow\u001b[0m\u001b[1;33m(\u001b[0m\u001b[0mimage\u001b[0m\u001b[1;33m)\u001b[0m\u001b[1;33m\u001b[0m\u001b[1;33m\u001b[0m\u001b[0m\n\u001b[0;32m     11\u001b[0m \u001b[1;33m\u001b[0m\u001b[0m\n",
      "\u001b[1;32m<__array_function__ internals>\u001b[0m in \u001b[0;36margmax\u001b[1;34m(*args, **kwargs)\u001b[0m\n",
      "\u001b[1;32m~\\anaconda3\\lib\\site-packages\\numpy\\core\\fromnumeric.py\u001b[0m in \u001b[0;36margmax\u001b[1;34m(a, axis, out)\u001b[0m\n\u001b[0;32m   1184\u001b[0m \u001b[1;33m\u001b[0m\u001b[0m\n\u001b[0;32m   1185\u001b[0m     \"\"\"\n\u001b[1;32m-> 1186\u001b[1;33m     \u001b[1;32mreturn\u001b[0m \u001b[0m_wrapfunc\u001b[0m\u001b[1;33m(\u001b[0m\u001b[0ma\u001b[0m\u001b[1;33m,\u001b[0m \u001b[1;34m'argmax'\u001b[0m\u001b[1;33m,\u001b[0m \u001b[0maxis\u001b[0m\u001b[1;33m=\u001b[0m\u001b[0maxis\u001b[0m\u001b[1;33m,\u001b[0m \u001b[0mout\u001b[0m\u001b[1;33m=\u001b[0m\u001b[0mout\u001b[0m\u001b[1;33m)\u001b[0m\u001b[1;33m\u001b[0m\u001b[1;33m\u001b[0m\u001b[0m\n\u001b[0m\u001b[0;32m   1187\u001b[0m \u001b[1;33m\u001b[0m\u001b[0m\n\u001b[0;32m   1188\u001b[0m \u001b[1;33m\u001b[0m\u001b[0m\n",
      "\u001b[1;32m~\\anaconda3\\lib\\site-packages\\numpy\\core\\fromnumeric.py\u001b[0m in \u001b[0;36m_wrapfunc\u001b[1;34m(obj, method, *args, **kwds)\u001b[0m\n\u001b[0;32m     59\u001b[0m \u001b[1;33m\u001b[0m\u001b[0m\n\u001b[0;32m     60\u001b[0m     \u001b[1;32mtry\u001b[0m\u001b[1;33m:\u001b[0m\u001b[1;33m\u001b[0m\u001b[1;33m\u001b[0m\u001b[0m\n\u001b[1;32m---> 61\u001b[1;33m         \u001b[1;32mreturn\u001b[0m \u001b[0mbound\u001b[0m\u001b[1;33m(\u001b[0m\u001b[1;33m*\u001b[0m\u001b[0margs\u001b[0m\u001b[1;33m,\u001b[0m \u001b[1;33m**\u001b[0m\u001b[0mkwds\u001b[0m\u001b[1;33m)\u001b[0m\u001b[1;33m\u001b[0m\u001b[1;33m\u001b[0m\u001b[0m\n\u001b[0m\u001b[0;32m     62\u001b[0m     \u001b[1;32mexcept\u001b[0m \u001b[0mTypeError\u001b[0m\u001b[1;33m:\u001b[0m\u001b[1;33m\u001b[0m\u001b[1;33m\u001b[0m\u001b[0m\n\u001b[0;32m     63\u001b[0m         \u001b[1;31m# A TypeError occurs if the object does have such a method in its\u001b[0m\u001b[1;33m\u001b[0m\u001b[1;33m\u001b[0m\u001b[1;33m\u001b[0m\u001b[0m\n",
      "\u001b[1;31mAxisError\u001b[0m: axis 1 is out of bounds for array of dimension 1"
     ]
    },
    {
     "data": {
      "image/png": "[encoded data removed]",
      "text/plain": [
       "<Figure size 432x288 with 1 Axes>"
      ]
     },
     "metadata": {
      "needs_background": "light"
     },
     "output_type": "display_data"
    },
    {
     "data": {
      "image/png": "[encoded data removed]",
      "text/plain": [
       "<Figure size 432x288 with 1 Axes>"
      ]
     },
     "metadata": {
      "needs_background": "light"
     },
     "output_type": "display_data"
    }
   ],
   "source": [
    "    p=random_test_image()\n",
    "    _ = imshow_tensor(process_image(p))\n",
    "    img, top_p, top_classes, real_class = predict(p, model)\n",
    "    img.shape\n",
    "    ax,image=imshow_tensor(img)\n",
    "    print(real_class)\n",
    "    print(top_p)\n",
    "    model.class_to_idx[real_class]\n",
    "    np.argmax(top_p,axis=1)\n",
    "    plt.imshow(image)\n",
    "\n"
   ]
  },
  {
   "cell_type": "code",
   "execution_count": 22,
   "metadata": {},
   "outputs": [
    {
     "data": {
      "text/plain": [
       "torch.Size([3, 224, 224])"
      ]
     },
     "execution_count": 22,
     "metadata": {},
     "output_type": "execute_result"
    },
    {
     "name": "stdout",
     "output_type": "stream",
     "text": [
      "Negative\n",
      "[5.4327232e+01 3.5894703e-02]\n"
     ]
    },
    {
     "data": {
      "text/plain": [
       "<matplotlib.image.AxesImage at 0x1c104f959d0>"
      ]
     },
     "execution_count": 22,
     "metadata": {},
     "output_type": "execute_result"
    },
    {
     "data": {
      "image/png": "[encoded data removed]",
      "text/plain": [
       "<Figure size 432x288 with 1 Axes>"
      ]
     },
     "metadata": {
      "needs_background": "light"
     },
     "output_type": "display_data"
    }
   ],
   "source": [
    "img, top_p, top_classes, real_class = predict(random_test_image(), model)\n",
    "img.shape\n",
    "ax,image=imshow_tensor(img)\n",
    "print(real_class)\n",
    "print(top_p)\n",
    "plt.imshow(image)\n"
   ]
  },
  {
   "cell_type": "code",
   "execution_count": 20,
   "metadata": {},
   "outputs": [
    {
     "data": {
      "text/plain": [
       "[100.0]"
      ]
     },
     "execution_count": 20,
     "metadata": {},
     "output_type": "execute_result"
    }
   ],
   "source": [
    "testiter = iter(dataloaders['test'])\n",
    "# Get a batch of testing images and labels\n",
    "features, targets = next(testiter)\n",
    "\n",
    "if train_on_gpu:\n",
    "    accuracy(model(features.to('cuda')), targets,topk=[1])\n",
    "else:\n",
    "    accuracy(model(features), targets,topk=[1])\n"
   ]
  },
  {
   "cell_type": "code",
   "execution_count": 113,
   "metadata": {},
   "outputs": [
    {
     "data": {
      "text/html": [
       "<div>\n",
       "<style scoped>\n",
       "    .dataframe tbody tr th:only-of-type {\n",
       "        vertical-align: middle;\n",
       "    }\n",
       "\n",
       "    .dataframe tbody tr th {\n",
       "        vertical-align: top;\n",
       "    }\n",
       "\n",
       "    .dataframe thead th {\n",
       "        text-align: right;\n",
       "    }\n",
       "</style>\n",
       "<table border=\"1\" class=\"dataframe\">\n",
       "  <thead>\n",
       "    <tr style=\"text-align: right;\">\n",
       "      <th></th>\n",
       "      <th>class</th>\n",
       "      <th>top1</th>\n",
       "      <th>loss</th>\n",
       "    </tr>\n",
       "  </thead>\n",
       "  <tbody>\n",
       "    <tr>\n",
       "      <th>0</th>\n",
       "      <td>Negative</td>\n",
       "      <td>99.9</td>\n",
       "      <td>0.008316</td>\n",
       "    </tr>\n",
       "    <tr>\n",
       "      <th>1</th>\n",
       "      <td>Positive</td>\n",
       "      <td>97.6</td>\n",
       "      <td>0.075083</td>\n",
       "    </tr>\n",
       "  </tbody>\n",
       "</table>\n",
       "</div>"
      ],
      "text/plain": [
       "      class  top1      loss\n",
       "0  Negative  99.9  0.008316\n",
       "1  Positive  97.6  0.075083"
      ]
     },
     "execution_count": 113,
     "metadata": {},
     "output_type": "execute_result"
    }
   ],
   "source": [
    "criterion = nn.CrossEntropyLoss()\n",
    "results = evaluate(model, dataloaders['test'], criterion)\n",
    "results.head()"
   ]
  },
  {
   "cell_type": "code",
   "execution_count": 30,
   "metadata": {},
   "outputs": [],
   "source": [
    "criterion = nn.CrossEntropyLoss()\n",
    "test_loader=dataloaders['test']\n",
    "topk=[2]"
   ]
  },
  {
   "cell_type": "code",
   "execution_count": null,
   "metadata": {},
   "outputs": [],
   "source": [
    "acc_results.shape"
   ]
  },
  {
   "cell_type": "code",
   "execution_count": null,
   "metadata": {},
   "outputs": [
    {
     "data": {
      "text/plain": [
       "DenseNet(\n",
       "  (features): Sequential(\n",
       "    (conv0): Conv2d(3, 64, kernel_size=(7, 7), stride=(2, 2), padding=(3, 3), bias=False)\n",
       "    (norm0): BatchNorm2d(64, eps=1e-05, momentum=0.1, affine=True, track_running_stats=True)\n",
       "    (relu0): ReLU(inplace=True)\n",
       "    (pool0): MaxPool2d(kernel_size=3, stride=2, padding=1, dilation=1, ceil_mode=False)\n",
       "    (denseblock1): _DenseBlock(\n",
       "      (denselayer1): _DenseLayer(\n",
       "        (norm1): BatchNorm2d(64, eps=1e-05, momentum=0.1, affine=True, track_running_stats=True)\n",
       "        (relu1): ReLU(inplace=True)\n",
       "        (conv1): Conv2d(64, 128, kernel_size=(1, 1), stride=(1, 1), bias=False)\n",
       "        (norm2): BatchNorm2d(128, eps=1e-05, momentum=0.1, affine=True, track_running_stats=True)\n",
       "        (relu2): ReLU(inplace=True)\n",
       "        (conv2): Conv2d(128, 32, kernel_size=(3, 3), stride=(1, 1), padding=(1, 1), bias=False)\n",
       "      )\n",
       "      (denselayer2): _DenseLayer(\n",
       "        (norm1): BatchNorm2d(96, eps=1e-05, momentum=0.1, affine=True, track_running_stats=True)\n",
       "        (relu1): ReLU(inplace=True)\n",
       "        (conv1): Conv2d(96, 128, kernel_size=(1, 1), stride=(1, 1), bias=False)\n",
       "        (norm2): BatchNorm2d(128, eps=1e-05, momentum=0.1, affine=True, track_running_stats=True)\n",
       "        (relu2): ReLU(inplace=True)\n",
       "        (conv2): Conv2d(128, 32, kernel_size=(3, 3), stride=(1, 1), padding=(1, 1), bias=False)\n",
       "      )\n",
       "      (denselayer3): _DenseLayer(\n",
       "        (norm1): BatchNorm2d(128, eps=1e-05, momentum=0.1, affine=True, track_running_stats=True)\n",
       "        (relu1): ReLU(inplace=True)\n",
       "        (conv1): Conv2d(128, 128, kernel_size=(1, 1), stride=(1, 1), bias=False)\n",
       "        (norm2): BatchNorm2d(128, eps=1e-05, momentum=0.1, affine=True, track_running_stats=True)\n",
       "        (relu2): ReLU(inplace=True)\n",
       "        (conv2): Conv2d(128, 32, kernel_size=(3, 3), stride=(1, 1), padding=(1, 1), bias=False)\n",
       "      )\n",
       "      (denselayer4): _DenseLayer(\n",
       "        (norm1): BatchNorm2d(160, eps=1e-05, momentum=0.1, affine=True, track_running_stats=True)\n",
       "        (relu1): ReLU(inplace=True)\n",
       "        (conv1): Conv2d(160, 128, kernel_size=(1, 1), stride=(1, 1), bias=False)\n",
       "        (norm2): BatchNorm2d(128, eps=1e-05, momentum=0.1, affine=True, track_running_stats=True)\n",
       "        (relu2): ReLU(inplace=True)\n",
       "        (conv2): Conv2d(128, 32, kernel_size=(3, 3), stride=(1, 1), padding=(1, 1), bias=False)\n",
       "      )\n",
       "      (denselayer5): _DenseLayer(\n",
       "        (norm1): BatchNorm2d(192, eps=1e-05, momentum=0.1, affine=True, track_running_stats=True)\n",
       "        (relu1): ReLU(inplace=True)\n",
       "        (conv1): Conv2d(192, 128, kernel_size=(1, 1), stride=(1, 1), bias=False)\n",
       "        (norm2): BatchNorm2d(128, eps=1e-05, momentum=0.1, affine=True, track_running_stats=True)\n",
       "        (relu2): ReLU(inplace=True)\n",
       "        (conv2): Conv2d(128, 32, kernel_size=(3, 3), stride=(1, 1), padding=(1, 1), bias=False)\n",
       "      )\n",
       "      (denselayer6): _DenseLayer(\n",
       "        (norm1): BatchNorm2d(224, eps=1e-05, momentum=0.1, affine=True, track_running_stats=True)\n",
       "        (relu1): ReLU(inplace=True)\n",
       "        (conv1): Conv2d(224, 128, kernel_size=(1, 1), stride=(1, 1), bias=False)\n",
       "        (norm2): BatchNorm2d(128, eps=1e-05, momentum=0.1, affine=True, track_running_stats=True)\n",
       "        (relu2): ReLU(inplace=True)\n",
       "        (conv2): Conv2d(128, 32, kernel_size=(3, 3), stride=(1, 1), padding=(1, 1), bias=False)\n",
       "      )\n",
       "    )\n",
       "    (transition1): _Transition(\n",
       "      (norm): BatchNorm2d(256, eps=1e-05, momentum=0.1, affine=True, track_running_stats=True)\n",
       "      (relu): ReLU(inplace=True)\n",
       "      (conv): Conv2d(256, 128, kernel_size=(1, 1), stride=(1, 1), bias=False)\n",
       "      (pool): AvgPool2d(kernel_size=2, stride=2, padding=0)\n",
       "    )\n",
       "    (denseblock2): _DenseBlock(\n",
       "      (denselayer1): _DenseLayer(\n",
       "        (norm1): BatchNorm2d(128, eps=1e-05, momentum=0.1, affine=True, track_running_stats=True)\n",
       "        (relu1): ReLU(inplace=True)\n",
       "        (conv1): Conv2d(128, 128, kernel_size=(1, 1), stride=(1, 1), bias=False)\n",
       "        (norm2): BatchNorm2d(128, eps=1e-05, momentum=0.1, affine=True, track_running_stats=True)\n",
       "        (relu2): ReLU(inplace=True)\n",
       "        (conv2): Conv2d(128, 32, kernel_size=(3, 3), stride=(1, 1), padding=(1, 1), bias=False)\n",
       "      )\n",
       "      (denselayer2): _DenseLayer(\n",
       "        (norm1): BatchNorm2d(160, eps=1e-05, momentum=0.1, affine=True, track_running_stats=True)\n",
       "        (relu1): ReLU(inplace=True)\n",
       "        (conv1): Conv2d(160, 128, kernel_size=(1, 1), stride=(1, 1), bias=False)\n",
       "        (norm2): BatchNorm2d(128, eps=1e-05, momentum=0.1, affine=True, track_running_stats=True)\n",
       "        (relu2): ReLU(inplace=True)\n",
       "        (conv2): Conv2d(128, 32, kernel_size=(3, 3), stride=(1, 1), padding=(1, 1), bias=False)\n",
       "      )\n",
       "      (denselayer3): _DenseLayer(\n",
       "        (norm1): BatchNorm2d(192, eps=1e-05, momentum=0.1, affine=True, track_running_stats=True)\n",
       "        (relu1): ReLU(inplace=True)\n",
       "        (conv1): Conv2d(192, 128, kernel_size=(1, 1), stride=(1, 1), bias=False)\n",
       "        (norm2): BatchNorm2d(128, eps=1e-05, momentum=0.1, affine=True, track_running_stats=True)\n",
       "        (relu2): ReLU(inplace=True)\n",
       "        (conv2): Conv2d(128, 32, kernel_size=(3, 3), stride=(1, 1), padding=(1, 1), bias=False)\n",
       "      )\n",
       "      (denselayer4): _DenseLayer(\n",
       "        (norm1): BatchNorm2d(224, eps=1e-05, momentum=0.1, affine=True, track_running_stats=True)\n",
       "        (relu1): ReLU(inplace=True)\n",
       "        (conv1): Conv2d(224, 128, kernel_size=(1, 1), stride=(1, 1), bias=False)\n",
       "        (norm2): BatchNorm2d(128, eps=1e-05, momentum=0.1, affine=True, track_running_stats=True)\n",
       "        (relu2): ReLU(inplace=True)\n",
       "        (conv2): Conv2d(128, 32, kernel_size=(3, 3), stride=(1, 1), padding=(1, 1), bias=False)\n",
       "      )\n",
       "      (denselayer5): _DenseLayer(\n",
       "        (norm1): BatchNorm2d(256, eps=1e-05, momentum=0.1, affine=True, track_running_stats=True)\n",
       "        (relu1): ReLU(inplace=True)\n",
       "        (conv1): Conv2d(256, 128, kernel_size=(1, 1), stride=(1, 1), bias=False)\n",
       "        (norm2): BatchNorm2d(128, eps=1e-05, momentum=0.1, affine=True, track_running_stats=True)\n",
       "        (relu2): ReLU(inplace=True)\n",
       "        (conv2): Conv2d(128, 32, kernel_size=(3, 3), stride=(1, 1), padding=(1, 1), bias=False)\n",
       "      )\n",
       "      (denselayer6): _DenseLayer(\n",
       "        (norm1): BatchNorm2d(288, eps=1e-05, momentum=0.1, affine=True, track_running_stats=True)\n",
       "        (relu1): ReLU(inplace=True)\n",
       "        (conv1): Conv2d(288, 128, kernel_size=(1, 1), stride=(1, 1), bias=False)\n",
       "        (norm2): BatchNorm2d(128, eps=1e-05, momentum=0.1, affine=True, track_running_stats=True)\n",
       "        (relu2): ReLU(inplace=True)\n",
       "        (conv2): Conv2d(128, 32, kernel_size=(3, 3), stride=(1, 1), padding=(1, 1), bias=False)\n",
       "      )\n",
       "      (denselayer7): _DenseLayer(\n",
       "        (norm1): BatchNorm2d(320, eps=1e-05, momentum=0.1, affine=True, track_running_stats=True)\n",
       "        (relu1): ReLU(inplace=True)\n",
       "        (conv1): Conv2d(320, 128, kernel_size=(1, 1), stride=(1, 1), bias=False)\n",
       "        (norm2): BatchNorm2d(128, eps=1e-05, momentum=0.1, affine=True, track_running_stats=True)\n",
       "        (relu2): ReLU(inplace=True)\n",
       "        (conv2): Conv2d(128, 32, kernel_size=(3, 3), stride=(1, 1), padding=(1, 1), bias=False)\n",
       "      )\n",
       "      (denselayer8): _DenseLayer(\n",
       "        (norm1): BatchNorm2d(352, eps=1e-05, momentum=0.1, affine=True, track_running_stats=True)\n",
       "        (relu1): ReLU(inplace=True)\n",
       "        (conv1): Conv2d(352, 128, kernel_size=(1, 1), stride=(1, 1), bias=False)\n",
       "        (norm2): BatchNorm2d(128, eps=1e-05, momentum=0.1, affine=True, track_running_stats=True)\n",
       "        (relu2): ReLU(inplace=True)\n",
       "        (conv2): Conv2d(128, 32, kernel_size=(3, 3), stride=(1, 1), padding=(1, 1), bias=False)\n",
       "      )\n",
       "      (denselayer9): _DenseLayer(\n",
       "        (norm1): BatchNorm2d(384, eps=1e-05, momentum=0.1, affine=True, track_running_stats=True)\n",
       "        (relu1): ReLU(inplace=True)\n",
       "        (conv1): Conv2d(384, 128, kernel_size=(1, 1), stride=(1, 1), bias=False)\n",
       "        (norm2): BatchNorm2d(128, eps=1e-05, momentum=0.1, affine=True, track_running_stats=True)\n",
       "        (relu2): ReLU(inplace=True)\n",
       "        (conv2): Conv2d(128, 32, kernel_size=(3, 3), stride=(1, 1), padding=(1, 1), bias=False)\n",
       "      )\n",
       "      (denselayer10): _DenseLayer(\n",
       "        (norm1): BatchNorm2d(416, eps=1e-05, momentum=0.1, affine=True, track_running_stats=True)\n",
       "        (relu1): ReLU(inplace=True)\n",
       "        (conv1): Conv2d(416, 128, kernel_size=(1, 1), stride=(1, 1), bias=False)\n",
       "        (norm2): BatchNorm2d(128, eps=1e-05, momentum=0.1, affine=True, track_running_stats=True)\n",
       "        (relu2): ReLU(inplace=True)\n",
       "        (conv2): Conv2d(128, 32, kernel_size=(3, 3), stride=(1, 1), padding=(1, 1), bias=False)\n",
       "      )\n",
       "      (denselayer11): _DenseLayer(\n",
       "        (norm1): BatchNorm2d(448, eps=1e-05, momentum=0.1, affine=True, track_running_stats=True)\n",
       "        (relu1): ReLU(inplace=True)\n",
       "        (conv1): Conv2d(448, 128, kernel_size=(1, 1), stride=(1, 1), bias=False)\n",
       "        (norm2): BatchNorm2d(128, eps=1e-05, momentum=0.1, affine=True, track_running_stats=True)\n",
       "        (relu2): ReLU(inplace=True)\n",
       "        (conv2): Conv2d(128, 32, kernel_size=(3, 3), stride=(1, 1), padding=(1, 1), bias=False)\n",
       "      )\n",
       "      (denselayer12): _DenseLayer(\n",
       "        (norm1): BatchNorm2d(480, eps=1e-05, momentum=0.1, affine=True, track_running_stats=True)\n",
       "        (relu1): ReLU(inplace=True)\n",
       "        (conv1): Conv2d(480, 128, kernel_size=(1, 1), stride=(1, 1), bias=False)\n",
       "        (norm2): BatchNorm2d(128, eps=1e-05, momentum=0.1, affine=True, track_running_stats=True)\n",
       "        (relu2): ReLU(inplace=True)\n",
       "        (conv2): Conv2d(128, 32, kernel_size=(3, 3), stride=(1, 1), padding=(1, 1), bias=False)\n",
       "      )\n",
       "    )\n",
       "    (transition2): _Transition(\n",
       "      (norm): BatchNorm2d(512, eps=1e-05, momentum=0.1, affine=True, track_running_stats=True)\n",
       "      (relu): ReLU(inplace=True)\n",
       "      (conv): Conv2d(512, 256, kernel_size=(1, 1), stride=(1, 1), bias=False)\n",
       "      (pool): AvgPool2d(kernel_size=2, stride=2, padding=0)\n",
       "    )\n",
       "    (denseblock3): _DenseBlock(\n",
       "      (denselayer1): _DenseLayer(\n",
       "        (norm1): BatchNorm2d(256, eps=1e-05, momentum=0.1, affine=True, track_running_stats=True)\n",
       "        (relu1): ReLU(inplace=True)\n",
       "        (conv1): Conv2d(256, 128, kernel_size=(1, 1), stride=(1, 1), bias=False)\n",
       "        (norm2): BatchNorm2d(128, eps=1e-05, momentum=0.1, affine=True, track_running_stats=True)\n",
       "        (relu2): ReLU(inplace=True)\n",
       "        (conv2): Conv2d(128, 32, kernel_size=(3, 3), stride=(1, 1), padding=(1, 1), bias=False)\n",
       "      )\n",
       "      (denselayer2): _DenseLayer(\n",
       "        (norm1): BatchNorm2d(288, eps=1e-05, momentum=0.1, affine=True, track_running_stats=True)\n",
       "        (relu1): ReLU(inplace=True)\n",
       "        (conv1): Conv2d(288, 128, kernel_size=(1, 1), stride=(1, 1), bias=False)\n",
       "        (norm2): BatchNorm2d(128, eps=1e-05, momentum=0.1, affine=True, track_running_stats=True)\n",
       "        (relu2): ReLU(inplace=True)\n",
       "        (conv2): Conv2d(128, 32, kernel_size=(3, 3), stride=(1, 1), padding=(1, 1), bias=False)\n",
       "      )\n",
       "      (denselayer3): _DenseLayer(\n",
       "        (norm1): BatchNorm2d(320, eps=1e-05, momentum=0.1, affine=True, track_running_stats=True)\n",
       "        (relu1): ReLU(inplace=True)\n",
       "        (conv1): Conv2d(320, 128, kernel_size=(1, 1), stride=(1, 1), bias=False)\n",
       "        (norm2): BatchNorm2d(128, eps=1e-05, momentum=0.1, affine=True, track_running_stats=True)\n",
       "        (relu2): ReLU(inplace=True)\n",
       "        (conv2): Conv2d(128, 32, kernel_size=(3, 3), stride=(1, 1), padding=(1, 1), bias=False)\n",
       "      )\n",
       "      (denselayer4): _DenseLayer(\n",
       "        (norm1): BatchNorm2d(352, eps=1e-05, momentum=0.1, affine=True, track_running_stats=True)\n",
       "        (relu1): ReLU(inplace=True)\n",
       "        (conv1): Conv2d(352, 128, kernel_size=(1, 1), stride=(1, 1), bias=False)\n",
       "        (norm2): BatchNorm2d(128, eps=1e-05, momentum=0.1, affine=True, track_running_stats=True)\n",
       "        (relu2): ReLU(inplace=True)\n",
       "        (conv2): Conv2d(128, 32, kernel_size=(3, 3), stride=(1, 1), padding=(1, 1), bias=False)\n",
       "      )\n",
       "      (denselayer5): _DenseLayer(\n",
       "        (norm1): BatchNorm2d(384, eps=1e-05, momentum=0.1, affine=True, track_running_stats=True)\n",
       "        (relu1): ReLU(inplace=True)\n",
       "        (conv1): Conv2d(384, 128, kernel_size=(1, 1), stride=(1, 1), bias=False)\n",
       "        (norm2): BatchNorm2d(128, eps=1e-05, momentum=0.1, affine=True, track_running_stats=True)\n",
       "        (relu2): ReLU(inplace=True)\n",
       "        (conv2): Conv2d(128, 32, kernel_size=(3, 3), stride=(1, 1), padding=(1, 1), bias=False)\n",
       "      )\n",
       "      (denselayer6): _DenseLayer(\n",
       "        (norm1): BatchNorm2d(416, eps=1e-05, momentum=0.1, affine=True, track_running_stats=True)\n",
       "        (relu1): ReLU(inplace=True)\n",
       "        (conv1): Conv2d(416, 128, kernel_size=(1, 1), stride=(1, 1), bias=False)\n",
       "        (norm2): BatchNorm2d(128, eps=1e-05, momentum=0.1, affine=True, track_running_stats=True)\n",
       "        (relu2): ReLU(inplace=True)\n",
       "        (conv2): Conv2d(128, 32, kernel_size=(3, 3), stride=(1, 1), padding=(1, 1), bias=False)\n",
       "      )\n",
       "      (denselayer7): _DenseLayer(\n",
       "        (norm1): BatchNorm2d(448, eps=1e-05, momentum=0.1, affine=True, track_running_stats=True)\n",
       "        (relu1): ReLU(inplace=True)\n",
       "        (conv1): Conv2d(448, 128, kernel_size=(1, 1), stride=(1, 1), bias=False)\n",
       "        (norm2): BatchNorm2d(128, eps=1e-05, momentum=0.1, affine=True, track_running_stats=True)\n",
       "        (relu2): ReLU(inplace=True)\n",
       "        (conv2): Conv2d(128, 32, kernel_size=(3, 3), stride=(1, 1), padding=(1, 1), bias=False)\n",
       "      )\n",
       "      (denselayer8): _DenseLayer(\n",
       "        (norm1): BatchNorm2d(480, eps=1e-05, momentum=0.1, affine=True, track_running_stats=True)\n",
       "        (relu1): ReLU(inplace=True)\n",
       "        (conv1): Conv2d(480, 128, kernel_size=(1, 1), stride=(1, 1), bias=False)\n",
       "        (norm2): BatchNorm2d(128, eps=1e-05, momentum=0.1, affine=True, track_running_stats=True)\n",
       "        (relu2): ReLU(inplace=True)\n",
       "        (conv2): Conv2d(128, 32, kernel_size=(3, 3), stride=(1, 1), padding=(1, 1), bias=False)\n",
       "      )\n",
       "      (denselayer9): _DenseLayer(\n",
       "        (norm1): BatchNorm2d(512, eps=1e-05, momentum=0.1, affine=True, track_running_stats=True)\n",
       "        (relu1): ReLU(inplace=True)\n",
       "        (conv1): Conv2d(512, 128, kernel_size=(1, 1), stride=(1, 1), bias=False)\n",
       "        (norm2): BatchNorm2d(128, eps=1e-05, momentum=0.1, affine=True, track_running_stats=True)\n",
       "        (relu2): ReLU(inplace=True)\n",
       "        (conv2): Conv2d(128, 32, kernel_size=(3, 3), stride=(1, 1), padding=(1, 1), bias=False)\n",
       "      )\n",
       "      (denselayer10): _DenseLayer(\n",
       "        (norm1): BatchNorm2d(544, eps=1e-05, momentum=0.1, affine=True, track_running_stats=True)\n",
       "        (relu1): ReLU(inplace=True)\n",
       "        (conv1): Conv2d(544, 128, kernel_size=(1, 1), stride=(1, 1), bias=False)\n",
       "        (norm2): BatchNorm2d(128, eps=1e-05, momentum=0.1, affine=True, track_running_stats=True)\n",
       "        (relu2): ReLU(inplace=True)\n",
       "        (conv2): Conv2d(128, 32, kernel_size=(3, 3), stride=(1, 1), padding=(1, 1), bias=False)\n",
       "      )\n",
       "      (denselayer11): _DenseLayer(\n",
       "        (norm1): BatchNorm2d(576, eps=1e-05, momentum=0.1, affine=True, track_running_stats=True)\n",
       "        (relu1): ReLU(inplace=True)\n",
       "        (conv1): Conv2d(576, 128, kernel_size=(1, 1), stride=(1, 1), bias=False)\n",
       "        (norm2): BatchNorm2d(128, eps=1e-05, momentum=0.1, affine=True, track_running_stats=True)\n",
       "        (relu2): ReLU(inplace=True)\n",
       "        (conv2): Conv2d(128, 32, kernel_size=(3, 3), stride=(1, 1), padding=(1, 1), bias=False)\n",
       "      )\n",
       "      (denselayer12): _DenseLayer(\n",
       "        (norm1): BatchNorm2d(608, eps=1e-05, momentum=0.1, affine=True, track_running_stats=True)\n",
       "        (relu1): ReLU(inplace=True)\n",
       "        (conv1): Conv2d(608, 128, kernel_size=(1, 1), stride=(1, 1), bias=False)\n",
       "        (norm2): BatchNorm2d(128, eps=1e-05, momentum=0.1, affine=True, track_running_stats=True)\n",
       "        (relu2): ReLU(inplace=True)\n",
       "        (conv2): Conv2d(128, 32, kernel_size=(3, 3), stride=(1, 1), padding=(1, 1), bias=False)\n",
       "      )\n",
       "      (denselayer13): _DenseLayer(\n",
       "        (norm1): BatchNorm2d(640, eps=1e-05, momentum=0.1, affine=True, track_running_stats=True)\n",
       "        (relu1): ReLU(inplace=True)\n",
       "        (conv1): Conv2d(640, 128, kernel_size=(1, 1), stride=(1, 1), bias=False)\n",
       "        (norm2): BatchNorm2d(128, eps=1e-05, momentum=0.1, affine=True, track_running_stats=True)\n",
       "        (relu2): ReLU(inplace=True)\n",
       "        (conv2): Conv2d(128, 32, kernel_size=(3, 3), stride=(1, 1), padding=(1, 1), bias=False)\n",
       "      )\n",
       "      (denselayer14): _DenseLayer(\n",
       "        (norm1): BatchNorm2d(672, eps=1e-05, momentum=0.1, affine=True, track_running_stats=True)\n",
       "        (relu1): ReLU(inplace=True)\n",
       "        (conv1): Conv2d(672, 128, kernel_size=(1, 1), stride=(1, 1), bias=False)\n",
       "        (norm2): BatchNorm2d(128, eps=1e-05, momentum=0.1, affine=True, track_running_stats=True)\n",
       "        (relu2): ReLU(inplace=True)\n",
       "        (conv2): Conv2d(128, 32, kernel_size=(3, 3), stride=(1, 1), padding=(1, 1), bias=False)\n",
       "      )\n",
       "      (denselayer15): _DenseLayer(\n",
       "        (norm1): BatchNorm2d(704, eps=1e-05, momentum=0.1, affine=True, track_running_stats=True)\n",
       "        (relu1): ReLU(inplace=True)\n",
       "        (conv1): Conv2d(704, 128, kernel_size=(1, 1), stride=(1, 1), bias=False)\n",
       "        (norm2): BatchNorm2d(128, eps=1e-05, momentum=0.1, affine=True, track_running_stats=True)\n",
       "        (relu2): ReLU(inplace=True)\n",
       "        (conv2): Conv2d(128, 32, kernel_size=(3, 3), stride=(1, 1), padding=(1, 1), bias=False)\n",
       "      )\n",
       "      (denselayer16): _DenseLayer(\n",
       "        (norm1): BatchNorm2d(736, eps=1e-05, momentum=0.1, affine=True, track_running_stats=True)\n",
       "        (relu1): ReLU(inplace=True)\n",
       "        (conv1): Conv2d(736, 128, kernel_size=(1, 1), stride=(1, 1), bias=False)\n",
       "        (norm2): BatchNorm2d(128, eps=1e-05, momentum=0.1, affine=True, track_running_stats=True)\n",
       "        (relu2): ReLU(inplace=True)\n",
       "        (conv2): Conv2d(128, 32, kernel_size=(3, 3), stride=(1, 1), padding=(1, 1), bias=False)\n",
       "      )\n",
       "      (denselayer17): _DenseLayer(\n",
       "        (norm1): BatchNorm2d(768, eps=1e-05, momentum=0.1, affine=True, track_running_stats=True)\n",
       "        (relu1): ReLU(inplace=True)\n",
       "        (conv1): Conv2d(768, 128, kernel_size=(1, 1), stride=(1, 1), bias=False)\n",
       "        (norm2): BatchNorm2d(128, eps=1e-05, momentum=0.1, affine=True, track_running_stats=True)\n",
       "        (relu2): ReLU(inplace=True)\n",
       "        (conv2): Conv2d(128, 32, kernel_size=(3, 3), stride=(1, 1), padding=(1, 1), bias=False)\n",
       "      )\n",
       "      (denselayer18): _DenseLayer(\n",
       "        (norm1): BatchNorm2d(800, eps=1e-05, momentum=0.1, affine=True, track_running_stats=True)\n",
       "        (relu1): ReLU(inplace=True)\n",
       "        (conv1): Conv2d(800, 128, kernel_size=(1, 1), stride=(1, 1), bias=False)\n",
       "        (norm2): BatchNorm2d(128, eps=1e-05, momentum=0.1, affine=True, track_running_stats=True)\n",
       "        (relu2): ReLU(inplace=True)\n",
       "        (conv2): Conv2d(128, 32, kernel_size=(3, 3), stride=(1, 1), padding=(1, 1), bias=False)\n",
       "      )\n",
       "      (denselayer19): _DenseLayer(\n",
       "        (norm1): BatchNorm2d(832, eps=1e-05, momentum=0.1, affine=True, track_running_stats=True)\n",
       "        (relu1): ReLU(inplace=True)\n",
       "        (conv1): Conv2d(832, 128, kernel_size=(1, 1), stride=(1, 1), bias=False)\n",
       "        (norm2): BatchNorm2d(128, eps=1e-05, momentum=0.1, affine=True, track_running_stats=True)\n",
       "        (relu2): ReLU(inplace=True)\n",
       "        (conv2): Conv2d(128, 32, kernel_size=(3, 3), stride=(1, 1), padding=(1, 1), bias=False)\n",
       "      )\n",
       "      (denselayer20): _DenseLayer(\n",
       "        (norm1): BatchNorm2d(864, eps=1e-05, momentum=0.1, affine=True, track_running_stats=True)\n",
       "        (relu1): ReLU(inplace=True)\n",
       "        (conv1): Conv2d(864, 128, kernel_size=(1, 1), stride=(1, 1), bias=False)\n",
       "        (norm2): BatchNorm2d(128, eps=1e-05, momentum=0.1, affine=True, track_running_stats=True)\n",
       "        (relu2): ReLU(inplace=True)\n",
       "        (conv2): Conv2d(128, 32, kernel_size=(3, 3), stride=(1, 1), padding=(1, 1), bias=False)\n",
       "      )\n",
       "      (denselayer21): _DenseLayer(\n",
       "        (norm1): BatchNorm2d(896, eps=1e-05, momentum=0.1, affine=True, track_running_stats=True)\n",
       "        (relu1): ReLU(inplace=True)\n",
       "        (conv1): Conv2d(896, 128, kernel_size=(1, 1), stride=(1, 1), bias=False)\n",
       "        (norm2): BatchNorm2d(128, eps=1e-05, momentum=0.1, affine=True, track_running_stats=True)\n",
       "        (relu2): ReLU(inplace=True)\n",
       "        (conv2): Conv2d(128, 32, kernel_size=(3, 3), stride=(1, 1), padding=(1, 1), bias=False)\n",
       "      )\n",
       "      (denselayer22): _DenseLayer(\n",
       "        (norm1): BatchNorm2d(928, eps=1e-05, momentum=0.1, affine=True, track_running_stats=True)\n",
       "        (relu1): ReLU(inplace=True)\n",
       "        (conv1): Conv2d(928, 128, kernel_size=(1, 1), stride=(1, 1), bias=False)\n",
       "        (norm2): BatchNorm2d(128, eps=1e-05, momentum=0.1, affine=True, track_running_stats=True)\n",
       "        (relu2): ReLU(inplace=True)\n",
       "        (conv2): Conv2d(128, 32, kernel_size=(3, 3), stride=(1, 1), padding=(1, 1), bias=False)\n",
       "      )\n",
       "      (denselayer23): _DenseLayer(\n",
       "        (norm1): BatchNorm2d(960, eps=1e-05, momentum=0.1, affine=True, track_running_stats=True)\n",
       "        (relu1): ReLU(inplace=True)\n",
       "        (conv1): Conv2d(960, 128, kernel_size=(1, 1), stride=(1, 1), bias=False)\n",
       "        (norm2): BatchNorm2d(128, eps=1e-05, momentum=0.1, affine=True, track_running_stats=True)\n",
       "        (relu2): ReLU(inplace=True)\n",
       "        (conv2): Conv2d(128, 32, kernel_size=(3, 3), stride=(1, 1), padding=(1, 1), bias=False)\n",
       "      )\n",
       "      (denselayer24): _DenseLayer(\n",
       "        (norm1): BatchNorm2d(992, eps=1e-05, momentum=0.1, affine=True, track_running_stats=True)\n",
       "        (relu1): ReLU(inplace=True)\n",
       "        (conv1): Conv2d(992, 128, kernel_size=(1, 1), stride=(1, 1), bias=False)\n",
       "        (norm2): BatchNorm2d(128, eps=1e-05, momentum=0.1, affine=True, track_running_stats=True)\n",
       "        (relu2): ReLU(inplace=True)\n",
       "        (conv2): Conv2d(128, 32, kernel_size=(3, 3), stride=(1, 1), padding=(1, 1), bias=False)\n",
       "      )\n",
       "    )\n",
       "    (transition3): _Transition(\n",
       "      (norm): BatchNorm2d(1024, eps=1e-05, momentum=0.1, affine=True, track_running_stats=True)\n",
       "      (relu): ReLU(inplace=True)\n",
       "      (conv): Conv2d(1024, 512, kernel_size=(1, 1), stride=(1, 1), bias=False)\n",
       "      (pool): AvgPool2d(kernel_size=2, stride=2, padding=0)\n",
       "    )\n",
       "    (denseblock4): _DenseBlock(\n",
       "      (denselayer1): _DenseLayer(\n",
       "        (norm1): BatchNorm2d(512, eps=1e-05, momentum=0.1, affine=True, track_running_stats=True)\n",
       "        (relu1): ReLU(inplace=True)\n",
       "        (conv1): Conv2d(512, 128, kernel_size=(1, 1), stride=(1, 1), bias=False)\n",
       "        (norm2): BatchNorm2d(128, eps=1e-05, momentum=0.1, affine=True, track_running_stats=True)\n",
       "        (relu2): ReLU(inplace=True)\n",
       "        (conv2): Conv2d(128, 32, kernel_size=(3, 3), stride=(1, 1), padding=(1, 1), bias=False)\n",
       "      )\n",
       "      (denselayer2): _DenseLayer(\n",
       "        (norm1): BatchNorm2d(544, eps=1e-05, momentum=0.1, affine=True, track_running_stats=True)\n",
       "        (relu1): ReLU(inplace=True)\n",
       "        (conv1): Conv2d(544, 128, kernel_size=(1, 1), stride=(1, 1), bias=False)\n",
       "        (norm2): BatchNorm2d(128, eps=1e-05, momentum=0.1, affine=True, track_running_stats=True)\n",
       "        (relu2): ReLU(inplace=True)\n",
       "        (conv2): Conv2d(128, 32, kernel_size=(3, 3), stride=(1, 1), padding=(1, 1), bias=False)\n",
       "      )\n",
       "      (denselayer3): _DenseLayer(\n",
       "        (norm1): BatchNorm2d(576, eps=1e-05, momentum=0.1, affine=True, track_running_stats=True)\n",
       "        (relu1): ReLU(inplace=True)\n",
       "        (conv1): Conv2d(576, 128, kernel_size=(1, 1), stride=(1, 1), bias=False)\n",
       "        (norm2): BatchNorm2d(128, eps=1e-05, momentum=0.1, affine=True, track_running_stats=True)\n",
       "        (relu2): ReLU(inplace=True)\n",
       "        (conv2): Conv2d(128, 32, kernel_size=(3, 3), stride=(1, 1), padding=(1, 1), bias=False)\n",
       "      )\n",
       "      (denselayer4): _DenseLayer(\n",
       "        (norm1): BatchNorm2d(608, eps=1e-05, momentum=0.1, affine=True, track_running_stats=True)\n",
       "        (relu1): ReLU(inplace=True)\n",
       "        (conv1): Conv2d(608, 128, kernel_size=(1, 1), stride=(1, 1), bias=False)\n",
       "        (norm2): BatchNorm2d(128, eps=1e-05, momentum=0.1, affine=True, track_running_stats=True)\n",
       "        (relu2): ReLU(inplace=True)\n",
       "        (conv2): Conv2d(128, 32, kernel_size=(3, 3), stride=(1, 1), padding=(1, 1), bias=False)\n",
       "      )\n",
       "      (denselayer5): _DenseLayer(\n",
       "        (norm1): BatchNorm2d(640, eps=1e-05, momentum=0.1, affine=True, track_running_stats=True)\n",
       "        (relu1): ReLU(inplace=True)\n",
       "        (conv1): Conv2d(640, 128, kernel_size=(1, 1), stride=(1, 1), bias=False)\n",
       "        (norm2): BatchNorm2d(128, eps=1e-05, momentum=0.1, affine=True, track_running_stats=True)\n",
       "        (relu2): ReLU(inplace=True)\n",
       "        (conv2): Conv2d(128, 32, kernel_size=(3, 3), stride=(1, 1), padding=(1, 1), bias=False)\n",
       "      )\n",
       "      (denselayer6): _DenseLayer(\n",
       "        (norm1): BatchNorm2d(672, eps=1e-05, momentum=0.1, affine=True, track_running_stats=True)\n",
       "        (relu1): ReLU(inplace=True)\n",
       "        (conv1): Conv2d(672, 128, kernel_size=(1, 1), stride=(1, 1), bias=False)\n",
       "        (norm2): BatchNorm2d(128, eps=1e-05, momentum=0.1, affine=True, track_running_stats=True)\n",
       "        (relu2): ReLU(inplace=True)\n",
       "        (conv2): Conv2d(128, 32, kernel_size=(3, 3), stride=(1, 1), padding=(1, 1), bias=False)\n",
       "      )\n",
       "      (denselayer7): _DenseLayer(\n",
       "        (norm1): BatchNorm2d(704, eps=1e-05, momentum=0.1, affine=True, track_running_stats=True)\n",
       "        (relu1): ReLU(inplace=True)\n",
       "        (conv1): Conv2d(704, 128, kernel_size=(1, 1), stride=(1, 1), bias=False)\n",
       "        (norm2): BatchNorm2d(128, eps=1e-05, momentum=0.1, affine=True, track_running_stats=True)\n",
       "        (relu2): ReLU(inplace=True)\n",
       "        (conv2): Conv2d(128, 32, kernel_size=(3, 3), stride=(1, 1), padding=(1, 1), bias=False)\n",
       "      )\n",
       "      (denselayer8): _DenseLayer(\n",
       "        (norm1): BatchNorm2d(736, eps=1e-05, momentum=0.1, affine=True, track_running_stats=True)\n",
       "        (relu1): ReLU(inplace=True)\n",
       "        (conv1): Conv2d(736, 128, kernel_size=(1, 1), stride=(1, 1), bias=False)\n",
       "        (norm2): BatchNorm2d(128, eps=1e-05, momentum=0.1, affine=True, track_running_stats=True)\n",
       "        (relu2): ReLU(inplace=True)\n",
       "        (conv2): Conv2d(128, 32, kernel_size=(3, 3), stride=(1, 1), padding=(1, 1), bias=False)\n",
       "      )\n",
       "      (denselayer9): _DenseLayer(\n",
       "        (norm1): BatchNorm2d(768, eps=1e-05, momentum=0.1, affine=True, track_running_stats=True)\n",
       "        (relu1): ReLU(inplace=True)\n",
       "        (conv1): Conv2d(768, 128, kernel_size=(1, 1), stride=(1, 1), bias=False)\n",
       "        (norm2): BatchNorm2d(128, eps=1e-05, momentum=0.1, affine=True, track_running_stats=True)\n",
       "        (relu2): ReLU(inplace=True)\n",
       "        (conv2): Conv2d(128, 32, kernel_size=(3, 3), stride=(1, 1), padding=(1, 1), bias=False)\n",
       "      )\n",
       "      (denselayer10): _DenseLayer(\n",
       "        (norm1): BatchNorm2d(800, eps=1e-05, momentum=0.1, affine=True, track_running_stats=True)\n",
       "        (relu1): ReLU(inplace=True)\n",
       "        (conv1): Conv2d(800, 128, kernel_size=(1, 1), stride=(1, 1), bias=False)\n",
       "        (norm2): BatchNorm2d(128, eps=1e-05, momentum=0.1, affine=True, track_running_stats=True)\n",
       "        (relu2): ReLU(inplace=True)\n",
       "        (conv2): Conv2d(128, 32, kernel_size=(3, 3), stride=(1, 1), padding=(1, 1), bias=False)\n",
       "      )\n",
       "      (denselayer11): _DenseLayer(\n",
       "        (norm1): BatchNorm2d(832, eps=1e-05, momentum=0.1, affine=True, track_running_stats=True)\n",
       "        (relu1): ReLU(inplace=True)\n",
       "        (conv1): Conv2d(832, 128, kernel_size=(1, 1), stride=(1, 1), bias=False)\n",
       "        (norm2): BatchNorm2d(128, eps=1e-05, momentum=0.1, affine=True, track_running_stats=True)\n",
       "        (relu2): ReLU(inplace=True)\n",
       "        (conv2): Conv2d(128, 32, kernel_size=(3, 3), stride=(1, 1), padding=(1, 1), bias=False)\n",
       "      )\n",
       "      (denselayer12): _DenseLayer(\n",
       "        (norm1): BatchNorm2d(864, eps=1e-05, momentum=0.1, affine=True, track_running_stats=True)\n",
       "        (relu1): ReLU(inplace=True)\n",
       "        (conv1): Conv2d(864, 128, kernel_size=(1, 1), stride=(1, 1), bias=False)\n",
       "        (norm2): BatchNorm2d(128, eps=1e-05, momentum=0.1, affine=True, track_running_stats=True)\n",
       "        (relu2): ReLU(inplace=True)\n",
       "        (conv2): Conv2d(128, 32, kernel_size=(3, 3), stride=(1, 1), padding=(1, 1), bias=False)\n",
       "      )\n",
       "      (denselayer13): _DenseLayer(\n",
       "        (norm1): BatchNorm2d(896, eps=1e-05, momentum=0.1, affine=True, track_running_stats=True)\n",
       "        (relu1): ReLU(inplace=True)\n",
       "        (conv1): Conv2d(896, 128, kernel_size=(1, 1), stride=(1, 1), bias=False)\n",
       "        (norm2): BatchNorm2d(128, eps=1e-05, momentum=0.1, affine=True, track_running_stats=True)\n",
       "        (relu2): ReLU(inplace=True)\n",
       "        (conv2): Conv2d(128, 32, kernel_size=(3, 3), stride=(1, 1), padding=(1, 1), bias=False)\n",
       "      )\n",
       "      (denselayer14): _DenseLayer(\n",
       "        (norm1): BatchNorm2d(928, eps=1e-05, momentum=0.1, affine=True, track_running_stats=True)\n",
       "        (relu1): ReLU(inplace=True)\n",
       "        (conv1): Conv2d(928, 128, kernel_size=(1, 1), stride=(1, 1), bias=False)\n",
       "        (norm2): BatchNorm2d(128, eps=1e-05, momentum=0.1, affine=True, track_running_stats=True)\n",
       "        (relu2): ReLU(inplace=True)\n",
       "        (conv2): Conv2d(128, 32, kernel_size=(3, 3), stride=(1, 1), padding=(1, 1), bias=False)\n",
       "      )\n",
       "      (denselayer15): _DenseLayer(\n",
       "        (norm1): BatchNorm2d(960, eps=1e-05, momentum=0.1, affine=True, track_running_stats=True)\n",
       "        (relu1): ReLU(inplace=True)\n",
       "        (conv1): Conv2d(960, 128, kernel_size=(1, 1), stride=(1, 1), bias=False)\n",
       "        (norm2): BatchNorm2d(128, eps=1e-05, momentum=0.1, affine=True, track_running_stats=True)\n",
       "        (relu2): ReLU(inplace=True)\n",
       "        (conv2): Conv2d(128, 32, kernel_size=(3, 3), stride=(1, 1), padding=(1, 1), bias=False)\n",
       "      )\n",
       "      (denselayer16): _DenseLayer(\n",
       "        (norm1): BatchNorm2d(992, eps=1e-05, momentum=0.1, affine=True, track_running_stats=True)\n",
       "        (relu1): ReLU(inplace=True)\n",
       "        (conv1): Conv2d(992, 128, kernel_size=(1, 1), stride=(1, 1), bias=False)\n",
       "        (norm2): BatchNorm2d(128, eps=1e-05, momentum=0.1, affine=True, track_running_stats=True)\n",
       "        (relu2): ReLU(inplace=True)\n",
       "        (conv2): Conv2d(128, 32, kernel_size=(3, 3), stride=(1, 1), padding=(1, 1), bias=False)\n",
       "      )\n",
       "    )\n",
       "    (norm5): BatchNorm2d(1024, eps=1e-05, momentum=0.1, affine=True, track_running_stats=True)\n",
       "  )\n",
       "  (classifier): Linear(in_features=1024, out_features=2, bias=True)\n",
       ")"
      ]
     },
     "execution_count": 32,
     "metadata": {},
     "output_type": "execute_result"
    }
   ],
   "source": [
    "\n",
    "    classes = []\n",
    "    losses = []\n",
    "    # Hold accuracy results\n",
    "    acc_results = np.zeros((len(test_loader.dataset), len(topk)))\n",
    "    i = 0\n",
    "\n",
    "    model.eval()\n",
    "    with torch.no_grad():\n",
    "\n",
    "        # Testing loop\n",
    "        for data, targets in test_loader:\n",
    "\n",
    "            # Tensors to gpu\n",
    "            if train_on_gpu:\n",
    "                data, targets = data.to('cuda'), targets.to('cuda')\n",
    "\n",
    "            # Raw model output\n",
    "            out = model(data)\n",
    "            # Iterate through each example\n",
    "            for pred, true in zip(out, targets):\n",
    "                # Find topk accuracy\n",
    "                acc_results[i, :] = accuracy(\n",
    "                    pred.unsqueeze(0), true.unsqueeze(0), topk)\n",
    "                classes.append(model.idx_to_class[true.item()])\n",
    "                # Calculate the loss\n",
    "                loss = criterion(pred.view(1, n_classes), true.view(1))\n",
    "                losses.append(loss.item())\n",
    "                i += 1\n",
    "\n",
    "    # Send results to a dataframe and calculate average across classes\n",
    "    results = pd.DataFrame(acc_results, columns=[f'top{i}' for i in topk])\n",
    "    results['class'] = classes\n",
    "    results['loss'] = losses\n",
    "    results = results.groupby(classes).mean()"
   ]
  },
  {
   "cell_type": "code",
   "execution_count": 27,
   "metadata": {},
   "outputs": [
    {
     "data": {
      "text/plain": [
       "[0.0003813969960901886,\n",
       " 0.04461408033967018,\n",
       " 0.0013016331940889359,\n",
       " 0.0011606630869209766,\n",
       " 0.000503770774230361,\n",
       " 0.0002575780963525176,\n",
       " 0.0008953376673161983,\n",
       " 7.64102369430475e-05,\n",
       " 0.3881392478942871,\n",
       " 0.003942337818443775,\n",
       " 2.8371408916427754e-05,\n",
       " 1.306950330734253,\n",
       " 0.0002698534226510674,\n",
       " 0.006835055537521839,\n",
       " 0.08173251152038574,\n",
       " 0.0003104920033365488,\n",
       " 4.8397800128441304e-05,\n",
       " 0.0004990047891624272,\n",
       " 0.00010263393050990999,\n",
       " 0.0008764001540839672,\n",
       " 0.0009211826254613698,\n",
       " 0.0002470903273206204,\n",
       " 0.003909208811819553,\n",
       " 0.020417282357811928,\n",
       " 0.016397131606936455,\n",
       " 0.0008543655276298523,\n",
       " 0.0002325502864550799,\n",
       " 9.023735765367746e-05,\n",
       " 1.2397689715726301e-05,\n",
       " 0.00021884430316276848,\n",
       " 0.0007284610182978213,\n",
       " 0.000388665939681232,\n",
       " 0.08680222928524017,\n",
       " 0.00014625910262111574,\n",
       " 0.004772225394845009,\n",
       " 0.037101779133081436,\n",
       " 0.00012492353562265635,\n",
       " 0.00013255194062367082,\n",
       " 4.768370445162873e-07,\n",
       " 0.0007962394156493247,\n",
       " 0.0013731822837144136,\n",
       " 0.001210433547385037,\n",
       " 0.0012665116228163242,\n",
       " 0.0006106419023126364,\n",
       " 0.0005550036439672112,\n",
       " 3.313963316031732e-05,\n",
       " 0.0005321278586052358,\n",
       " 0.00010311071673640981,\n",
       " 0.0022921499330550432,\n",
       " 0.004627709276974201,\n",
       " 0.0012681784573942423,\n",
       " 2.3007127310847864e-05,\n",
       " 0.0010382506297901273,\n",
       " 0.0012301980750635266,\n",
       " 0.011376864276826382,\n",
       " 0.00044645831803791225,\n",
       " 4.291525328881107e-06,\n",
       " 0.0003090619284193963,\n",
       " 0.0009260656661354005,\n",
       " 0.010205349884927273,\n",
       " 0.0007906410028226674,\n",
       " 0.000608854868914932,\n",
       " 2.0503786799963564e-05,\n",
       " 0.000557267339900136,\n",
       " 0.19508421421051025,\n",
       " 0.0006667536217719316,\n",
       " 0.38751527667045593,\n",
       " 0.31688135862350464,\n",
       " 0.000782183778937906,\n",
       " 0.0008064831490628421,\n",
       " 0.0011394681641831994,\n",
       " 0.001538523007184267,\n",
       " 0.39087849855422974,\n",
       " 0.0024273712188005447,\n",
       " 0.0039056462701410055,\n",
       " 0.021291498094797134,\n",
       " 0.0011655449634417892,\n",
       " 1.7046782886609435e-05,\n",
       " 0.00020037073409184813,\n",
       " 0.000270091783022508,\n",
       " 0.003836059710010886,\n",
       " 0.0017409658757969737,\n",
       " 0.2954544425010681,\n",
       " 0.08072508871555328,\n",
       " 0.07753632217645645,\n",
       " 0.0002949994814116508,\n",
       " 0.00022921319759916514,\n",
       " 0.003236890770494938,\n",
       " 0.001158400671556592,\n",
       " 0.005202801898121834,\n",
       " 0.21042124927043915,\n",
       " 0.0003103728231508285,\n",
       " 0.00013183678674977273,\n",
       " 0.002117060124874115,\n",
       " 2.3245540432981215e-05,\n",
       " 0.0012536532012745738,\n",
       " 0.15140961110591888,\n",
       " 0.0001161031104857102,\n",
       " 5.722029527532868e-06,\n",
       " 0.0006037319544702768,\n",
       " 0.00012861855793744326,\n",
       " 1.549708758830093e-05,\n",
       " 0.00033122775494121015,\n",
       " 0.11218458414077759,\n",
       " 0.006590654142200947,\n",
       " 2.8371408916427754e-05,\n",
       " 4.291525328881107e-06,\n",
       " 0.0008463853155262768,\n",
       " 0.0002627027570270002,\n",
       " 0.0004213160718791187,\n",
       " 0.0007135705673135817,\n",
       " 0.0003947432560380548,\n",
       " 0.0004923323867842555,\n",
       " 0.033742357045412064,\n",
       " 0.06062742695212364,\n",
       " 0.07449958473443985,\n",
       " 0.0020611488725990057,\n",
       " 4.6491513785440475e-06,\n",
       " 0.0030223901849240065,\n",
       " 0.0010009760735556483,\n",
       " 1.4543427823809907e-05,\n",
       " 0.007521169260144234,\n",
       " 0.0036927147302776575,\n",
       " 0.00021824838768225163,\n",
       " 9.524368942948058e-05,\n",
       " 0.0009991897968575358,\n",
       " 0.020847365260124207,\n",
       " 0.0030519834253937006,\n",
       " 0.0038658662233501673,\n",
       " 0.004303243011236191,\n",
       " 0.00014327930693980306,\n",
       " 0.00012516192509792745,\n",
       " 3.111314072157256e-05,\n",
       " 2.0861407392658293e-05,\n",
       " 0.0006629414856433868,\n",
       " 0.0022501645144075155,\n",
       " 4.303362584323622e-05,\n",
       " 0.0020024979021400213,\n",
       " 1.430955410003662,\n",
       " 0.0006063529872335494,\n",
       " 0.0012366274604573846,\n",
       " 0.0010620674584060907,\n",
       " 0.01693924330174923,\n",
       " 0.00010096516780322418,\n",
       " 0.0006643710657954216,\n",
       " 0.001468533300794661,\n",
       " 0.003090964164584875,\n",
       " 0.0003530356043484062,\n",
       " 0.00015948931104503572,\n",
       " 0.0001426833332516253,\n",
       " 9.727005090098828e-05,\n",
       " 0.009136180393397808,\n",
       " 0.00015436411194968969,\n",
       " 0.0013688965700566769,\n",
       " 0.11304307729005814,\n",
       " 2.431126832962036,\n",
       " 0.0020079705864191055,\n",
       " 0.00023016665363684297,\n",
       " 0.004147262312471867,\n",
       " 0.22068452835083008,\n",
       " 0.0016890796832740307,\n",
       " 0.04351021721959114,\n",
       " 0.0035727499052882195,\n",
       " 0.008643358945846558,\n",
       " 9.333651541965082e-05,\n",
       " 0.0018330690218135715,\n",
       " 0.0002953569928649813,\n",
       " 0.0009756095823831856,\n",
       " 0.0004048719711136073,\n",
       " 0.0024927754420787096,\n",
       " 4.0649541915627196e-05,\n",
       " 0.00015054999676067382,\n",
       " 0.0032153832726180553,\n",
       " 7.152555099310121e-07,\n",
       " 0.002067691646516323,\n",
       " 0.003119960892945528,\n",
       " 2.2053474822314456e-05,\n",
       " 0.0053953747265040874,\n",
       " 0.00025078488397412,\n",
       " 0.0003632839070633054,\n",
       " 0.00043644916149787605,\n",
       " 0.006629023235291243,\n",
       " 0.00024101213784888387,\n",
       " 0.0012666305992752314,\n",
       " 0.0025480680633336306,\n",
       " 0.0009348789462819695,\n",
       " 0.000620768463704735,\n",
       " 0.001347229932434857,\n",
       " 0.00024089295766316354,\n",
       " 0.0037363022565841675,\n",
       " 0.0041508241556584835,\n",
       " 0.011155026033520699,\n",
       " 0.0006661579827778041,\n",
       " 0.00159172632265836,\n",
       " 0.02904639020562172,\n",
       " 0.0009609610424377024,\n",
       " 8.928377064876258e-05,\n",
       " 0.0006484074983745813,\n",
       " 0.00019822540343739092,\n",
       " 0.002070903778076172,\n",
       " 0.025071311742067337,\n",
       " 0.03734917566180229,\n",
       " 0.002811647718772292,\n",
       " 0.0016644446877762675,\n",
       " 0.0032120561227202415,\n",
       " 3.3378546504536644e-06,\n",
       " 0.07119306921958923,\n",
       " 0.013348261825740337,\n",
       " 1.1920922133867862e-06,\n",
       " 0.01026942115277052,\n",
       " 0.007120115682482719,\n",
       " 0.00022968991834204644,\n",
       " 0.0048537286929786205,\n",
       " 2.9802276912960224e-06,\n",
       " 0.003864916041493416,\n",
       " 4.8636207793606445e-05,\n",
       " 7.390948667307384e-06,\n",
       " 0.16058722138404846,\n",
       " 0.006611141376197338,\n",
       " 0.0010370597010478377,\n",
       " 0.0013542537344619632,\n",
       " 0.0004372832481749356,\n",
       " 0.0001760566228767857,\n",
       " 0.052081119269132614,\n",
       " 0.007325692102313042,\n",
       " 0.010344578884541988,\n",
       " 0.0010677833342924714,\n",
       " 0.0021856960374861956,\n",
       " 0.07485271990299225,\n",
       " 0.03709132596850395,\n",
       " 0.004266208969056606,\n",
       " 0.34476444125175476,\n",
       " 0.0004945961991325021,\n",
       " 9.190614218823612e-05,\n",
       " 5.721882189391181e-05,\n",
       " 0.037908170372247696,\n",
       " 0.0010898133041337132,\n",
       " 0.09303168207406998,\n",
       " 1.3470558769768104e-05,\n",
       " 0.0005259322933852673,\n",
       " 0.006433963775634766,\n",
       " 0.00018261195509694517,\n",
       " 0.013554326258599758,\n",
       " 0.00019739109848160297,\n",
       " 0.0033711527939885855,\n",
       " 2.0503786799963564e-05,\n",
       " 0.00037174468161538243,\n",
       " 0.0021734442561864853,\n",
       " 0.004394279792904854,\n",
       " 0.0018016549292951822,\n",
       " 0.0003367095487192273,\n",
       " 0.005243359133601189,\n",
       " 0.0003194298769813031,\n",
       " 0.0013619918609037995,\n",
       " 0.01636628806591034,\n",
       " 0.0002456601650919765,\n",
       " 9.536738616588991e-07,\n",
       " 9.894321920000948e-06,\n",
       " 0.0010114560136571527,\n",
       " 0.0006201728247106075,\n",
       " 6.139089964563027e-05,\n",
       " 0.02314888872206211,\n",
       " 0.12850388884544373,\n",
       " 0.019984912127256393,\n",
       " 5.9126061387360096e-05,\n",
       " 0.00021872512297704816,\n",
       " 0.00021860594279132783,\n",
       " 0.0006574614671990275,\n",
       " 4.160317621426657e-05,\n",
       " 0.0005859803641214967,\n",
       " 0.0010699268896132708,\n",
       " 0.004245435819029808,\n",
       " 3.0040289857424796e-05,\n",
       " 0.00033158526639454067,\n",
       " 0.0011329191038385034,\n",
       " 0.00135389668866992,\n",
       " 1.1205610462639015e-05,\n",
       " 0.00010084597306558862,\n",
       " 1.0728830375228426e-06,\n",
       " 0.013462002389132977,\n",
       " 0.0009535771678201854,\n",
       " 4.339123915997334e-05,\n",
       " 0.00026723151677288115,\n",
       " 0.25646156072616577,\n",
       " 0.00025996167096309364,\n",
       " 0.00011193125828867778,\n",
       " 0.0008139872807078063,\n",
       " 0.013140273280441761,\n",
       " 0.0011641160817816854,\n",
       " 0.0024295118637382984,\n",
       " 0.00040082051418721676,\n",
       " 0.0011726891389116645,\n",
       " 0.0008946230518631637,\n",
       " 0.0005645350320264697,\n",
       " 0.001065282616764307,\n",
       " 0.0002980979916173965,\n",
       " 0.0006528153317049146,\n",
       " 0.0003351603518240154,\n",
       " 0.002395619172602892,\n",
       " 0.004304904956370592,\n",
       " 0.00018821375851985067,\n",
       " 0.0006803343421779573,\n",
       " 0.0002196785935666412,\n",
       " 0.0002803409588523209,\n",
       " 0.0025296376552432775,\n",
       " 0.010577920824289322,\n",
       " 0.002140613505616784,\n",
       " 0.0005326044629327953,\n",
       " 0.028073111549019814,\n",
       " 0.0008630603551864624,\n",
       " 4.017272294731811e-05,\n",
       " 0.004968202207237482,\n",
       " 0.00021169328829273582,\n",
       " 7.462222856702283e-05,\n",
       " 0.0017234723782166839,\n",
       " 0.0009432157967239618,\n",
       " 8.451581379631534e-05,\n",
       " 0.014323398470878601,\n",
       " 0.00748141435906291,\n",
       " 0.0017282324843108654,\n",
       " 0.004295290447771549,\n",
       " 0.01543645840138197,\n",
       " 2.4914430468925275e-05,\n",
       " 0.0016212427290156484,\n",
       " 0.0005060345865786076,\n",
       " 0.00019631843315437436,\n",
       " 0.3287661075592041,\n",
       " 0.01632489077746868,\n",
       " 0.0024249928537756205,\n",
       " 0.00019739109848160297,\n",
       " 4.9232225137529895e-05,\n",
       " 0.0018369958270341158,\n",
       " 0.014589061960577965,\n",
       " 4.6132929128361866e-05,\n",
       " 0.0004980515805073082,\n",
       " 0.008465122431516647,\n",
       " 0.15323685109615326,\n",
       " 4.7444173105759546e-05,\n",
       " 0.005226875655353069,\n",
       " 0.0001932195882545784,\n",
       " 0.00212479243054986,\n",
       " 5.531158240046352e-05,\n",
       " 3.4570634852570947e-06,\n",
       " 4.362964682513848e-05,\n",
       " 0.0011336335446685553,\n",
       " 0.27278703451156616,\n",
       " 0.0008384049870073795,\n",
       " 0.06495143473148346,\n",
       " 0.0020300988107919693,\n",
       " 2.145764938177308e-06,\n",
       " 0.00026842328952625394,\n",
       " 0.0030783668626099825,\n",
       " 5.090107151772827e-05,\n",
       " 2.0570192337036133,\n",
       " 0.0007983834366314113,\n",
       " 0.0002618685248307884,\n",
       " 0.03412723168730736,\n",
       " 0.00016532962035853416,\n",
       " 4.2676016164477915e-05,\n",
       " 0.001167331007309258,\n",
       " 0.001370087033137679,\n",
       " 0.09102357923984528,\n",
       " 6.222531374078244e-05,\n",
       " 0.0008596062543801963,\n",
       " 4.708655978902243e-05,\n",
       " 0.00038914260221645236,\n",
       " 0.0001037067049765028,\n",
       " 0.0016872945707291365,\n",
       " 0.017314234748482704,\n",
       " 0.00012909532233607024,\n",
       " 0.013687798753380775,\n",
       " 5.960462772236497e-07,\n",
       " 0.00159327348228544,\n",
       " 0.001396753010340035,\n",
       " 0.041641246527433395,\n",
       " 0.017317282035946846,\n",
       " 0.00016783259343355894,\n",
       " 0.00013493580627255142,\n",
       " 2.9444261599564925e-05,\n",
       " 0.00015209948469419032,\n",
       " 0.0023795643355697393,\n",
       " 0.00021669900161214173,\n",
       " 0.0004976941272616386,\n",
       " 0.0014937683008611202,\n",
       " 4.827859811484814e-05,\n",
       " 0.006624523084610701,\n",
       " 0.0009634620510041714,\n",
       " 0.0005268854438327253,\n",
       " 0.0005766874528490007,\n",
       " 0.0002338612830499187,\n",
       " 2.253030106658116e-05,\n",
       " 0.0005260513862594962,\n",
       " 0.269281268119812,\n",
       " 3.2305197237292305e-05,\n",
       " 0.0008347125840373337,\n",
       " 0.005858156364411116,\n",
       " 0.01354103721678257,\n",
       " 0.011579092592000961,\n",
       " 4.708655978902243e-05,\n",
       " 3.9219088648678735e-05,\n",
       " 0.0010356307029724121,\n",
       " 0.00010573305189609528,\n",
       " 0.025120720267295837,\n",
       " 0.025430483743548393,\n",
       " 0.0005066303419880569,\n",
       " 0.0003237200144212693,\n",
       " 1.0728830375228426e-06,\n",
       " 6.079655122448457e-06,\n",
       " 1.1324817933200393e-05,\n",
       " 0.0008245882345363498,\n",
       " 0.00022063204960431904,\n",
       " 0.019879857078194618,\n",
       " 0.012449999339878559,\n",
       " 0.0008665143977850676,\n",
       " 0.0009053422254510224,\n",
       " 0.003034512745216489,\n",
       " 0.019666092470288277,\n",
       " 0.007805797271430492,\n",
       " 0.0010719512356445193,\n",
       " 0.0015966061037033796,\n",
       " 0.0021027852781116962,\n",
       " 0.0005285535007715225,\n",
       " 0.02590046636760235,\n",
       " 0.0007585985003970563,\n",
       " 2.3483953555114567e-05,\n",
       " 0.005047554615885019,\n",
       " 3.6000557884108275e-05,\n",
       " 0.00015031162183731794,\n",
       " 0.011000346392393112,\n",
       " 0.0004538459761533886,\n",
       " 1.3266022205352783,\n",
       " 3.0040289857424796e-05,\n",
       " 1.811964830267243e-05,\n",
       " 2.7418097943154862e-06,\n",
       " 0.03313778340816498,\n",
       " 0.0007071378640830517,\n",
       " 0.00021407696476671845,\n",
       " 0.00026079590315930545,\n",
       " 0.00026556302327662706,\n",
       " 0.0011186301708221436,\n",
       " 0.011615974828600883,\n",
       " 0.08393265306949615,\n",
       " 0.00016151554882526398,\n",
       " 0.0005648924270644784,\n",
       " 0.0011453027836978436,\n",
       " 0.00018368464952800423,\n",
       " 4.160317621426657e-05,\n",
       " 5.304672595229931e-05,\n",
       " 9.285972191719338e-05,\n",
       " 0.049485038965940475,\n",
       " 0.003134934464469552,\n",
       " 1.0490362910786644e-05,\n",
       " 0.00375934224575758,\n",
       " 0.011653091758489609,\n",
       " 0.016174644231796265,\n",
       " 0.00011646069469861686,\n",
       " 0.0008895016508176923,\n",
       " 0.0006248190766200423,\n",
       " 0.0004418112221173942,\n",
       " 1.3686013221740723,\n",
       " 0.0006647284608334303,\n",
       " 0.00021514961554203182,\n",
       " 0.00010311071673640981,\n",
       " 0.0005093707586638629,\n",
       " 0.003139806678518653,\n",
       " 0.00040082051418721676,\n",
       " 0.0003541081096045673,\n",
       " 0.00013183678674977273,\n",
       " 0.00011860620725201443,\n",
       " 0.0002493547508493066,\n",
       " 0.0005429700831882656,\n",
       " 0.04221784695982933,\n",
       " 9.893881360767409e-05,\n",
       " 0.0012741313548758626,\n",
       " 0.01643078774213791,\n",
       " 0.0005788319394923747,\n",
       " 0.00023719835735391825,\n",
       " 0.000959531927946955,\n",
       " 0.00016008525562938303,\n",
       " 0.0002015625941567123,\n",
       " 3.85038583772257e-05,\n",
       " 0.00041106835124082863,\n",
       " 0.00014995403762441128,\n",
       " 0.030415557324886322,\n",
       " 4.994744449504651e-05,\n",
       " 0.00017331528943032026,\n",
       " 0.0008156548719853163,\n",
       " 0.0024084628093987703,\n",
       " 0.00023183519078884274,\n",
       " 0.003984251990914345,\n",
       " 0.0015712546883150935,\n",
       " 3.9934315282152966e-05,\n",
       " 0.01600126549601555,\n",
       " 9.047575440490618e-05,\n",
       " 0.0004888770054094493,\n",
       " 0.0005050813779234886,\n",
       " 1.3470558769768104e-05,\n",
       " 0.005994911305606365,\n",
       " 0.0070978631265461445,\n",
       " 0.0011066034203395247,\n",
       " 0.020062731578946114,\n",
       " 0.001980844885110855,\n",
       " 0.0035843905061483383,\n",
       " 0.0018725732807070017,\n",
       " 0.00013684290752280504,\n",
       " 7.033323527139146e-06,\n",
       " 0.00018857131362892687,\n",
       " 8.093983342405409e-05,\n",
       " 0.0003651905863080174,\n",
       " 5.435795901576057e-05,\n",
       " 0.00039081089198589325,\n",
       " 0.00183723377995193,\n",
       " 0.008549635298550129,\n",
       " 0.0034489689860492945,\n",
       " 0.020792724564671516,\n",
       " 0.03325194865465164,\n",
       " 0.00011908298620255664,\n",
       " 0.0005703729693777859,\n",
       " 0.00018904806347563863,\n",
       " 9.298280929215252e-06,\n",
       " 0.0014083001296967268,\n",
       " 0.001378896413370967,\n",
       " 0.005734539590775967,\n",
       " 5.721882189391181e-05,\n",
       " 1.3708974620385561e-05,\n",
       " 0.00036840804386883974,\n",
       " 1.1691703796386719,\n",
       " 0.0012444854946807027,\n",
       " 0.0008106521563604474,\n",
       " 0.6892815232276917,\n",
       " 3.8742269680369645e-05,\n",
       " 0.002161787124350667,\n",
       " 0.07650246471166611,\n",
       " 0.11011200398206711,\n",
       " 0.0009289240115322173,\n",
       " 0.0024540091399103403,\n",
       " 0.00045980370487086475,\n",
       " 0.06599383801221848,\n",
       " 9.965400386136025e-05,\n",
       " 0.00011860620725201443,\n",
       " 2.455681169521995e-05,\n",
       " 0.00042822727118618786,\n",
       " 0.0006817638641223311,\n",
       " 0.0009533389820717275,\n",
       " 5.960462772236497e-07,\n",
       " 2.145764938177308e-06,\n",
       " 0.00013731967192143202,\n",
       " 0.0005623904871754348,\n",
       " 0.009673741646111012,\n",
       " 2.7656173188006505e-05,\n",
       " 0.00010263393050990999,\n",
       " 0.027690768241882324,\n",
       " 0.0014415121404454112,\n",
       " 0.18385791778564453,\n",
       " 0.12075386941432953,\n",
       " 0.0003564914222806692,\n",
       " 0.006037095095962286,\n",
       " 0.0028461208567023277,\n",
       " 5.88246488571167,\n",
       " 2.634490556374658e-05,\n",
       " 0.00204722979106009,\n",
       " 1.3589766240329482e-05,\n",
       " 0.018544159829616547,\n",
       " 0.0003493413969408721,\n",
       " 0.000977157847955823,\n",
       " 4.410734163684538e-06,\n",
       " 0.011532546021044254,\n",
       " 0.00046588058467023075,\n",
       " 3.4450891689630225e-05,\n",
       " 0.00021169328829273582,\n",
       " 0.005377826746553183,\n",
       " 0.001262344536371529,\n",
       " 0.0020281951874494553,\n",
       " 0.01103100087493658,\n",
       " 1.9073468138230965e-06,\n",
       " 0.05278562754392624,\n",
       " 4.5298504119273275e-05,\n",
       " 0.0005958688561804593,\n",
       " 0.0003518439189065248,\n",
       " 0.010626163333654404,\n",
       " 0.023180222138762474,\n",
       " 0.013820311985909939,\n",
       " 0.000310730334604159,\n",
       " 0.5583727359771729,\n",
       " 0.0032982020638883114,\n",
       " 0.0024263011291623116,\n",
       " 0.020014826208353043,\n",
       " 0.007307941094040871,\n",
       " 4.207999518257566e-05,\n",
       " 0.0007736074039712548,\n",
       " 0.0025620989035815,\n",
       " 0.0025031205732375383,\n",
       " 0.11757161468267441,\n",
       " 0.013425658456981182,\n",
       " 0.003390399506315589,\n",
       " 0.01029939018189907,\n",
       " 0.048589371144771576,\n",
       " 0.0010967198759317398,\n",
       " 0.0011019593803212047,\n",
       " 5.543078441405669e-05,\n",
       " 0.00027569307712838054,\n",
       " 0.0010082405060529709,\n",
       " 0.0001597276859683916,\n",
       " 0.00010668662434909493,\n",
       " 0.00016342257731594145,\n",
       " 2.061933994293213,\n",
       " 0.0021968772634863853,\n",
       " 0.00011574551899684593,\n",
       " 0.002614177530631423,\n",
       " 0.011732504703104496,\n",
       " 0.007142841350287199,\n",
       " 0.0005822870298288763,\n",
       " 0.0001227780303452164,\n",
       " 0.0015969631494954228,\n",
       " 0.003435188438743353,\n",
       " 0.0021908108610659838,\n",
       " 0.004351077135652304,\n",
       " 0.000311802898067981,\n",
       " 0.006631155032664537,\n",
       " 0.00018225439998786896,\n",
       " 0.09962460398674011,\n",
       " 0.0007264359155669808,\n",
       " 0.0021997320000082254,\n",
       " 2.251838445663452,\n",
       " 0.00018189683032687753,\n",
       " 0.001311871805228293,\n",
       " 0.00014625910262111574,\n",
       " 0.001772262854501605,\n",
       " 0.0008691347320564091,\n",
       " 0.00011860620725201443,\n",
       " 1.5616295058862306e-05,\n",
       " 0.007408052682876587,\n",
       " 0.015860004350543022,\n",
       " 1.5258672647178173e-05,\n",
       " 0.00036352223833091557,\n",
       " 0.6564478278160095,\n",
       " 0.019153641536831856,\n",
       " 0.0007009433466009796,\n",
       " 4.482168878894299e-05,\n",
       " 0.0009994279826059937,\n",
       " 0.00010561384988250211,\n",
       " 0.019862445071339607,\n",
       " 0.000854841957334429,\n",
       " 0.0005666795768775046,\n",
       " 0.26224106550216675,\n",
       " 0.0003810394846368581,\n",
       " 6.007967749610543e-05,\n",
       " 0.0020926736760884523,\n",
       " 0.00012265883560758084,\n",
       " 7.879423355916515e-05,\n",
       " 0.035161394625902176,\n",
       " 0.0323123037815094,\n",
       " 8.439661905867979e-05,\n",
       " 0.0013994909822940826,\n",
       " 0.0033496483229100704,\n",
       " 0.0020122535061091185,\n",
       " 0.00012778419477399439,\n",
       " 0.18505796790122986,\n",
       " 0.0397053062915802,\n",
       " 0.0008708022069185972,\n",
       " 0.0001497156627010554,\n",
       " 0.002526664873585105,\n",
       " 0.0006974886637181044,\n",
       " 0.0014494876377284527,\n",
       " 0.005014343652874231,\n",
       " 0.0007214327342808247,\n",
       " 0.00042024365393444896,\n",
       " 0.04346570745110512,\n",
       " 0.23047108948230743,\n",
       " 2.932505594799295e-05,\n",
       " 3.45700973412022e-05,\n",
       " 0.0002019201492657885,\n",
       " 0.00025233422638848424,\n",
       " 0.027616554871201515,\n",
       " 0.0001740304142003879,\n",
       " 4.935142715112306e-05,\n",
       " 0.011938313022255898,\n",
       " 0.0003718638326972723,\n",
       " 0.002441760618239641,\n",
       " 0.000593962671700865,\n",
       " 0.00024005869636312127,\n",
       " 0.0008403107640333474,\n",
       " 0.0004941195948049426,\n",
       " 0.00311496970243752,\n",
       " 7.152531907195225e-06,\n",
       " 1.9073468138230965e-06,\n",
       " 0.0005631053354591131,\n",
       " 0.004802715498954058,\n",
       " 3.2543604902457446e-05,\n",
       " 0.0014751992421224713,\n",
       " 3.576214658096433e-05,\n",
       " 0.02280963771045208,\n",
       " 0.0103662870824337,\n",
       " 0.00012063252506777644,\n",
       " 0.0008482910343445837,\n",
       " 0.0006843847222626209,\n",
       " 0.021503517404198647,\n",
       " 6.878139538457617e-05,\n",
       " 0.0010727847693488002,\n",
       " 0.05259767174720764,\n",
       " 0.00048708971007727087,\n",
       " 0.0007563352701254189,\n",
       " 0.008168148808181286,\n",
       " 0.004122094251215458,\n",
       " 0.001447463990189135,\n",
       " 0.0008036244544200599,\n",
       " 0.00016080040950328112,\n",
       " 0.0004862556525040418,\n",
       " 0.013908370397984982,\n",
       " 0.001369134639389813,\n",
       " 0.00014602071314584464,\n",
       " 0.0022889384999871254,\n",
       " 0.00032074074260890484,\n",
       " 0.0026096594519913197,\n",
       " 0.0006588910473510623,\n",
       " 0.0023438858333975077,\n",
       " 0.00012170527770649642,\n",
       " 4.327203714638017e-05,\n",
       " 3.814689989667386e-06,\n",
       " 0.0013949673157185316,\n",
       " 0.00858261063694954,\n",
       " 0.0001597276859683916,\n",
       " 9.119095193454996e-05,\n",
       " 0.05825209617614746,\n",
       " 0.004359859973192215,\n",
       " 0.00015746307326480746,\n",
       " 0.0032884590327739716,\n",
       " 0.00592061085626483,\n",
       " 0.0021709464490413666,\n",
       " 0.0023172451183199883,\n",
       " 0.0002646096108946949,\n",
       " 0.000179036331246607,\n",
       " 1.2755313036905136e-05,\n",
       " 0.003181041684001684,\n",
       " 0.0007535954937338829,\n",
       " 0.0035109801683574915,\n",
       " 8.046303264563903e-05,\n",
       " 0.001420561340637505,\n",
       " 0.007139645516872406,\n",
       " 7.271740287251305e-06,\n",
       " 0.005470899399369955,\n",
       " 0.00040439533768221736,\n",
       " 0.001313776709139347,\n",
       " 0.00041309406515210867,\n",
       " 4.768370445162873e-07,\n",
       " 3.075552376685664e-05,\n",
       " 0.0014669859083369374,\n",
       " 8.618460560683161e-05,\n",
       " 0.001347110839560628,\n",
       " 3.2782016205601394e-05,\n",
       " 0.0012159105390310287,\n",
       " 0.034835174679756165,\n",
       " 0.0008553183870390058,\n",
       " 0.02888009324669838,\n",
       " 0.0018324741395190358,\n",
       " 0.07552236318588257,\n",
       " 0.0003721021639648825,\n",
       " 0.07418229430913925,\n",
       " 0.057826895266771317,\n",
       " 0.0011023165425285697,\n",
       " 0.0009421439026482403,\n",
       " 8.844937838148326e-05,\n",
       " 0.00042298430344089866,\n",
       " 0.0003570872650016099,\n",
       " 0.5436193943023682,\n",
       " 7.748303323751315e-05,\n",
       " 4.172238186583854e-05,\n",
       " 0.02960634045302868,\n",
       " 0.00013553177996072918,\n",
       " 0.05610748380422592,\n",
       " 0.0004142856632824987,\n",
       " 3.4450891689630225e-05,\n",
       " 0.0003212174342479557,\n",
       " 0.05914364755153656,\n",
       " 0.0003530356043484062,\n",
       " 0.001453415839932859,\n",
       " 0.00013457823661156,\n",
       " 3.540453326422721e-05,\n",
       " 0.0003331344632897526,\n",
       " 0.0004236992390360683,\n",
       " 0.0002734287118073553,\n",
       " 0.004079710692167282,\n",
       " 0.20489360392093658,\n",
       " 0.0002559096028562635,\n",
       " 0.004447449930012226,\n",
       " 0.0004530118894763291,\n",
       " 6.174850568640977e-05,\n",
       " 0.0014004433760419488,\n",
       " 0.003725138260051608,\n",
       " 0.005091201979666948,\n",
       " 0.000614216027315706,\n",
       " 0.17344102263450623,\n",
       " 0.00034421717282384634,\n",
       " 0.0006075443816371262,\n",
       " 0.0008510305196978152,\n",
       " 0.008017145097255707,\n",
       " 9.893881360767409e-05,\n",
       " 7.867782187531702e-06,\n",
       " 4.875540980719961e-05,\n",
       " 0.003789032343775034,\n",
       " 0.00036197309964336455,\n",
       " 0.0013629442546516657,\n",
       " 0.0023059463128447533,\n",
       " 0.7971545457839966,\n",
       " 4.827859811484814e-05,\n",
       " 0.001370206126011908,\n",
       " 0.1487903892993927,\n",
       " 2.407998726994265e-05,\n",
       " 0.006685982458293438,\n",
       " 0.003965016920119524,\n",
       " 0.00015245705435518175,\n",
       " 1.6689286894688848e-06,\n",
       " 0.04028061777353287,\n",
       " 0.014382741414010525,\n",
       " 0.009066720493137836,\n",
       " 0.016691789031028748,\n",
       " 1.8596476365928538e-05,\n",
       " 0.03539753332734108,\n",
       " 0.0050506386905908585,\n",
       " 0.0003293210465926677,\n",
       " 0.3106175363063812,\n",
       " 0.0003461238811723888,\n",
       " 0.00023123928986024112,\n",
       " 0.002475176239386201,\n",
       " 0.0014581772265955806,\n",
       " 0.000985375139862299,\n",
       " 0.0020208191126585007,\n",
       " 0.0007844470092095435,\n",
       " 0.00043275527423247695,\n",
       " 0.1942526251077652,\n",
       " 0.0008519833791069686,\n",
       " 1.1920928244535389e-07,\n",
       " 0.0013737775152549148,\n",
       " 0.0002972637885250151,\n",
       " 0.004878285340964794,\n",
       " 9.42901024245657e-05,\n",
       " 0.0009313059854321182,\n",
       " 0.003182467771694064,\n",
       " 0.0005987281911075115,\n",
       " 9.643566590966657e-05,\n",
       " 0.0016088649863377213,\n",
       " 7.974783511599526e-05,\n",
       " 0.0028325694147497416,\n",
       " 0.01813298650085926,\n",
       " 0.001890659099444747,\n",
       " 0.005075190216302872,\n",
       " 0.018222656100988388,\n",
       " 0.014709005132317543,\n",
       " 0.0002687808300834149,\n",
       " 0.008093655109405518,\n",
       " 0.0011426832061260939,\n",
       " 0.0014225849881768227,\n",
       " 1.1115846633911133,\n",
       " 0.0013619918609037995,\n",
       " 0.0028446943033486605,\n",
       " 4.172238186583854e-05,\n",
       " 0.00021205084340181202,\n",
       " 0.0003475538978818804,\n",
       " 0.09464272856712341,\n",
       " 0.00022802136663813144,\n",
       " 0.20726604759693146,\n",
       " 0.3605769872665405,\n",
       " 0.00656767887994647,\n",
       " 1.4305104514278355e-06,\n",
       " 0.006472931243479252,\n",
       " 0.0034920922480523586,\n",
       " 2.622600959512056e-06,\n",
       " 0.00043883229955099523,\n",
       " 0.07461763918399811,\n",
       " 0.00689496286213398,\n",
       " 0.0022908414248377085,\n",
       " 0.01971074379980564,\n",
       " 0.00022468426323030144,\n",
       " 0.0010184821439906955,\n",
       " 0.15021903812885284,\n",
       " 6.55629628454335e-05,\n",
       " 3.8742269680369645e-05,\n",
       " 0.002561028813943267,\n",
       " 0.006570994853973389,\n",
       " 0.00046993177966214716,\n",
       " 2.5152843591058627e-05,\n",
       " 0.004632336553186178,\n",
       " 0.00035363141796551645,\n",
       " 0.0013584204716607928,\n",
       " 0.0016630165046080947,\n",
       " 2.4676019165781327e-05,\n",
       " 0.003893771907314658,\n",
       " 0.002232917817309499,\n",
       " 9.262132516596466e-05,\n",
       " 0.0011085085570812225,\n",
       " 0.00099871342536062,\n",
       " 0.0006095697171986103,\n",
       " 0.04083237051963806,\n",
       " 0.0014147283509373665,\n",
       " 0.003453958546742797,\n",
       " 0.010093598626554012,\n",
       " 0.009406177327036858,\n",
       " 0.1461302787065506,\n",
       " 0.0007943335804156959,\n",
       " 1.4424220353248529e-05,\n",
       " 0.015442210249602795,\n",
       " 0.0025981261860579252,\n",
       " 0.005863370839506388,\n",
       " 0.006794444750994444,\n",
       " 0.0002991705550812185,\n",
       " 5.960446742392378e-06,\n",
       " 0.004195460118353367,\n",
       " 0.0010221739066764712,\n",
       " 0.0006335158832371235,\n",
       " 0.000243634101934731,\n",
       " 0.003173674223944545,\n",
       " 4.51792984677013e-05,\n",
       " 0.010899060405790806,\n",
       " 0.0008706831140443683,\n",
       " 0.0005021026590839028,\n",
       " 0.00017093151109293103,\n",
       " 0.002439501229673624,\n",
       " 0.0034157049376517534,\n",
       " 0.04074561968445778,\n",
       " 0.0004885195521637797,\n",
       " 0.0006064721383154392,\n",
       " 0.106180340051651,\n",
       " 0.008702685125172138,\n",
       " 2.4437606043647975e-05,\n",
       " 0.00047874910524114966,\n",
       " 0.00012540031457319856,\n",
       " 0.0005697772721759975,\n",
       " 0.0006865289760753512,\n",
       " 0.0006012300727888942,\n",
       " 0.0005694198189303279,\n",
       " 0.012430808506906033,\n",
       " 0.0007914748275652528,\n",
       " 0.0004374024283606559,\n",
       " 0.0001591317413840443,\n",
       " 0.0032771711703389883,\n",
       " 0.007765225600451231,\n",
       " 0.0001998939987970516,\n",
       " 0.0003197873884346336,\n",
       " 0.040634140372276306,\n",
       " 0.00010477947944309562,\n",
       " 0.03428056463599205,\n",
       " 5.721882189391181e-05,\n",
       " 0.00019226610311307013,\n",
       " 0.0060963393189013,\n",
       " 0.004739598371088505,\n",
       " 0.001255200942978263,\n",
       " 0.006234245840460062,\n",
       " 3.433168603805825e-05,\n",
       " 0.008834915235638618,\n",
       " 0.5653342604637146,\n",
       " 0.0042530326172709465,\n",
       " 0.024377943947911263,\n",
       " 0.0007186928996816278,\n",
       " 0.0005943200667388737,\n",
       " 0.0002752163854893297,\n",
       " 0.030052155256271362,\n",
       " 0.0021548878867179155,\n",
       " 0.016996437683701515,\n",
       " 0.0007058274932205677,\n",
       " 1.7881377516459906e-06,\n",
       " 1.5139465176616795e-05,\n",
       " 0.00017069313616957515,\n",
       " 0.0003815161471720785,\n",
       " 0.0010551605373620987,\n",
       " 0.0018986309878528118,\n",
       " 6.198863957251888e-06,\n",
       " 0.0021827223245054483,\n",
       " 0.0013715155655518174,\n",
       " 6.90197994117625e-05,\n",
       " 0.005660812836140394,\n",
       " 0.00769093818962574,\n",
       " 3.969590397900902e-05,\n",
       " 0.0019657351076602936,\n",
       " 0.0012752028414979577,\n",
       " 0.0005029367166571319,\n",
       " 1.3589766240329482e-05,\n",
       " 0.001739775761961937,\n",
       " 0.05297354981303215,\n",
       " 4.2914423829643056e-05,\n",
       " 0.01371284481137991,\n",
       " 0.00014161060971673578,\n",
       " 2.47952248173533e-05,\n",
       " 0.0017081208061426878,\n",
       " 1.0728830375228426e-06,\n",
       " 0.0003022690652869642,\n",
       " 0.0002768848498817533,\n",
       " 0.002188075101003051,\n",
       " 2.145764938177308e-06,\n",
       " 0.005870481953024864,\n",
       " 0.004068313166499138,\n",
       " 0.0008245882345363498,\n",
       " 0.22723007202148438,\n",
       " 0.000788258679676801,\n",
       " 0.00035553809721022844,\n",
       " 0.0005793085438199341,\n",
       " 8.844937838148326e-05,\n",
       " 0.00030012393835932016,\n",
       " 0.0004844683862756938,\n",
       " 8.344646857949556e-07,\n",
       " 0.0011993603548035026,\n",
       " ...]"
      ]
     },
     "execution_count": 27,
     "metadata": {},
     "output_type": "execute_result"
    }
   ],
   "source": [
    "losses"
   ]
  },
  {
   "cell_type": "markdown",
   "metadata": {},
   "source": [
    "# test results"
   ]
  },
  {
   "cell_type": "code",
   "execution_count": 52,
   "metadata": {},
   "outputs": [
    {
     "name": "stdout",
     "output_type": "stream",
     "text": [
      "tensor([[999.,   1.],\n",
      "        [ 24., 976.]])\n"
     ]
    }
   ],
   "source": [
    "nb_classes = 2\n",
    "confusion_matrix = torch.zeros(nb_classes, nb_classes)\n",
    "with torch.no_grad():\n",
    "    for i, (inputs, classes) in enumerate(dataloaders['test']):\n",
    "        inputs = inputs.to(device)\n",
    "        classes = classes.to(device)\n",
    "        outputs = model(inputs)\n",
    "        _, preds = torch.max(outputs, 1)\n",
    "        for t, p in zip(classes.view(-1), preds.view(-1)):\n",
    "                confusion_matrix[t.long(), p.long()] += 1\n",
    "\n",
    "print(confusion_matrix)\n"
   ]
  },
  {
   "cell_type": "code",
   "execution_count": 1,
   "metadata": {},
   "outputs": [],
   "source": [
    "TP=976\n",
    "TN=999\n",
    "FN=24\n",
    "FP=1\n",
    "recall=TP/(TP+FN)\n",
    "precision=TP/(TP+FP)\n",
    "f1_score=2*recall*precision/(precision+recall)\n",
    "acc=(TP+TN)/(TP+TN+FN+FP)"
   ]
  },
  {
   "cell_type": "code",
   "execution_count": 2,
   "metadata": {},
   "outputs": [
    {
     "data": {
      "text/plain": [
       "(0.9873545776428932, 0.9875)"
      ]
     },
     "execution_count": 2,
     "metadata": {},
     "output_type": "execute_result"
    }
   ],
   "source": [
    "f1_score,acc"
   ]
  },
  {
   "cell_type": "code",
   "execution_count": 53,
   "metadata": {},
   "outputs": [],
   "source": [
    "a=pd.DataFrame(confusion_matrix)"
   ]
  },
  {
   "cell_type": "code",
   "execution_count": 115,
   "metadata": {},
   "outputs": [
    {
     "data": {
      "text/plain": [
       "<seaborn.axisgrid.FacetGrid at 0x2136959ceb0>"
      ]
     },
     "execution_count": 115,
     "metadata": {},
     "output_type": "execute_result"
    },
    {
     "data": {
      "text/plain": [
       "Text(0.5, 6.800000000000011, 'images')"
      ]
     },
     "execution_count": 115,
     "metadata": {},
     "output_type": "execute_result"
    },
    {
     "data": {
      "text/plain": [
       "Text(-5.949999999999996, 0.5, 'Accuracy (%)')"
      ]
     },
     "execution_count": 115,
     "metadata": {},
     "output_type": "execute_result"
    },
    {
     "data": {
      "text/plain": [
       "Text(0.5, 1.0, 'Top 1 Accuracy vs Number of Training Images')"
      ]
     },
     "execution_count": 115,
     "metadata": {},
     "output_type": "execute_result"
    },
    {
     "data": {
      "text/plain": [
       "(-5.0, 105.0)"
      ]
     },
     "execution_count": 115,
     "metadata": {},
     "output_type": "execute_result"
    },
    {
     "data": {
      "image/png": "[encoded data removed]",
      "text/plain": [
       "<Figure size 432x432 with 1 Axes>"
      ]
     },
     "metadata": {
      "needs_background": "light"
     },
     "output_type": "display_data"
    }
   ],
   "source": [
    "results = results.merge(cat_df, left_on='class', right_on='category').\\\n",
    "drop(columns=['category'])\n",
    "# Plot using seaborn\n",
    "sns.lmplot(\n",
    "    y='top1', x='n_train', data=results, height=6)\n",
    "plt.xlabel('images')\n",
    "plt.ylabel('Accuracy (%)')\n",
    "plt.title('Top 1 Accuracy vs Number of Training Images')\n",
    "plt.ylim(-5, 105)\n"
   ]
  },
  {
   "cell_type": "code",
   "execution_count": null,
   "metadata": {},
   "outputs": [],
   "source": []
  }
 ],
 "metadata": {
  "kernelspec": {
   "display_name": "Python 3",
   "language": "python",
   "name": "python3"
  },
  "language_info": {
   "codemirror_mode": {
    "name": "ipython",
    "version": 3
   },
   "file_extension": ".py",
   "mimetype": "text/x-python",
   "name": "python",
   "nbconvert_exporter": "python",
   "pygments_lexer": "ipython3",
   "version": "3.8.3"
  }
 },
 "nbformat": 4,
 "nbformat_minor": 4
}
